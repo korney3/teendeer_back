{
 "cells": [
  {
   "cell_type": "code",
   "execution_count": 1,
   "id": "b59ffca4",
   "metadata": {},
   "outputs": [],
   "source": [
    "import pandas as pd"
   ]
  },
  {
   "cell_type": "markdown",
   "id": "b7f6216a",
   "metadata": {},
   "source": [
    "После внесения изменений в файл models.py необходимо запустить <br>\n",
    "python manage.py makemigration && python manage.py migrate"
   ]
  },
  {
   "cell_type": "code",
   "execution_count": 11,
   "id": "2932c00f",
   "metadata": {},
   "outputs": [],
   "source": [
    "import os\n",
    "import django\n",
    "os.environ.setdefault('DJANGO_SETTINGS_MODULE', 'hackathon.settings')\n",
    "os.environ[\"DJANGO_ALLOW_ASYNC_UNSAFE\"] = \"true\"\n",
    "django.setup()"
   ]
  },
  {
   "cell_type": "code",
   "execution_count": 12,
   "id": "ec308761",
   "metadata": {},
   "outputs": [],
   "source": [
    "from database.models import GiftedChild"
   ]
  },
  {
   "cell_type": "code",
   "execution_count": 13,
   "id": "5ea37ce9",
   "metadata": {},
   "outputs": [
    {
     "data": {
      "text/plain": [
       "mappingproxy({'__module__': 'database.models',\n",
       "              'CLASS': 'C',\n",
       "              'ART': 'A',\n",
       "              'SINGER': 'S',\n",
       "              'DEERS': 'D',\n",
       "              'PROFESSION_CHOICES': [('C', 'Class'),\n",
       "               ('A', 'Art'),\n",
       "               ('S', 'Singer'),\n",
       "               ('D', 'Deers')],\n",
       "              '__doc__': 'GiftedChild(uuid, specialization, name, surname, bio, created_at, updated_at)',\n",
       "              '_meta': <Options for GiftedChild>,\n",
       "              'DoesNotExist': database.models.GiftedChild.DoesNotExist,\n",
       "              'MultipleObjectsReturned': database.models.GiftedChild.MultipleObjectsReturned,\n",
       "              'uuid': <django.db.models.query_utils.DeferredAttribute at 0x7f1ddb9e04f0>,\n",
       "              'specialization': <django.db.models.query_utils.DeferredAttribute at 0x7f1ddb9e0550>,\n",
       "              'get_specialization_display': functools.partialmethod(<function Model._get_FIELD_display at 0x7f1ddbe7a790>, , field=<django.db.models.fields.CharField: specialization>),\n",
       "              'name': <django.db.models.query_utils.DeferredAttribute at 0x7f1ddb9e0670>,\n",
       "              'surname': <django.db.models.query_utils.DeferredAttribute at 0x7f1ddb9e06d0>,\n",
       "              'bio': <django.db.models.query_utils.DeferredAttribute at 0x7f1ddb9e0730>,\n",
       "              'subscribers': <django.db.models.fields.related_descriptors.ManyToManyDescriptor at 0x7f1ddb9da190>,\n",
       "              'created_at': <django.db.models.query_utils.DeferredAttribute at 0x7f1ddb9d2ca0>,\n",
       "              'get_next_by_created_at': functools.partialmethod(<function Model._get_next_or_previous_by_FIELD at 0x7f1ddbe7a820>, , field=<django.db.models.fields.DateTimeField: created_at>, is_next=True),\n",
       "              'get_previous_by_created_at': functools.partialmethod(<function Model._get_next_or_previous_by_FIELD at 0x7f1ddbe7a820>, , field=<django.db.models.fields.DateTimeField: created_at>, is_next=False),\n",
       "              'updated_at': <django.db.models.query_utils.DeferredAttribute at 0x7f1ddb9d2a60>,\n",
       "              'get_next_by_updated_at': functools.partialmethod(<function Model._get_next_or_previous_by_FIELD at 0x7f1ddbe7a820>, , field=<django.db.models.fields.DateTimeField: updated_at>, is_next=True),\n",
       "              'get_previous_by_updated_at': functools.partialmethod(<function Model._get_next_or_previous_by_FIELD at 0x7f1ddbe7a820>, , field=<django.db.models.fields.DateTimeField: updated_at>, is_next=False),\n",
       "              'objects': <django.db.models.manager.ManagerDescriptor at 0x7f1ddba36850>,\n",
       "              'subs': <django.db.models.fields.related_descriptors.ManyToManyDescriptor at 0x7f1ddba36f70>})"
      ]
     },
     "execution_count": 13,
     "metadata": {},
     "output_type": "execute_result"
    }
   ],
   "source": [
    "#Смотрим все поля базы\n",
    "GiftedChild.__dict__"
   ]
  },
  {
   "cell_type": "code",
   "execution_count": 14,
   "id": "a401f6bd",
   "metadata": {},
   "outputs": [],
   "source": [
    "#Создаем новую запись в БД\n",
    "#После создания .save() делать не нужно!\n",
    "child1 = GiftedChild.objects.create(specialization='A', \n",
    "                                    name='Певец', \n",
    "                                    surname='Певцов', \n",
    "                                    bio='Певец Певцов родился в чуме и первое что он сделал - исполнил 7ую симфонию Чайковского. Этот талант не пропадет!')"
   ]
  },
  {
   "cell_type": "code",
   "execution_count": 15,
   "id": "87cd453e",
   "metadata": {},
   "outputs": [
    {
     "data": {
      "text/plain": [
       "{'_state': <django.db.models.base.ModelState at 0x7f1ddb8c0b80>,\n",
       " 'uuid': None,\n",
       " 'specialization': 'A',\n",
       " 'name': 'Певец',\n",
       " 'surname': 'Певцов',\n",
       " 'bio': 'Певец Певцов родился в чуме и первое что он сделал - исполнил 7ую симфонию Чайковского. Этот талант не пропадет!',\n",
       " 'created_at': datetime.datetime(2021, 10, 9, 8, 59, 52, 429061, tzinfo=<UTC>),\n",
       " 'updated_at': datetime.datetime(2021, 10, 9, 8, 59, 52, 429094, tzinfo=<UTC>)}"
      ]
     },
     "execution_count": 15,
     "metadata": {},
     "output_type": "execute_result"
    }
   ],
   "source": [
    "#проверяем, что всё создалось\n",
    "child1.__dict__"
   ]
  },
  {
   "cell_type": "code",
   "execution_count": 16,
   "id": "dfbecca3",
   "metadata": {},
   "outputs": [
    {
     "data": {
      "text/plain": [
       "<QuerySet [<GiftedChild: GiftedChild object (1)>]>"
      ]
     },
     "execution_count": 16,
     "metadata": {},
     "output_type": "execute_result"
    }
   ],
   "source": [
    "#в БД так же появился новый объект\n",
    "GiftedChild.objects.all()"
   ]
  },
  {
   "cell_type": "code",
   "execution_count": 17,
   "id": "a6fce25c",
   "metadata": {},
   "outputs": [
    {
     "data": {
      "text/plain": [
       "'Певец'"
      ]
     },
     "execution_count": 17,
     "metadata": {},
     "output_type": "execute_result"
    }
   ],
   "source": [
    "#аттрибуты объекта можно кверить по ключам\n",
    "GiftedChild.objects.first().name"
   ]
  },
  {
   "cell_type": "code",
   "execution_count": 18,
   "id": "81e3bba1",
   "metadata": {},
   "outputs": [],
   "source": [
    "#Ищем в БД по значению поля\n",
    "child_query = GiftedChild.objects.get(name='Певец')"
   ]
  },
  {
   "cell_type": "code",
   "execution_count": 19,
   "id": "b98a128d",
   "metadata": {},
   "outputs": [
    {
     "data": {
      "text/plain": [
       "<GiftedChild: GiftedChild object (1)>"
      ]
     },
     "execution_count": 19,
     "metadata": {},
     "output_type": "execute_result"
    }
   ],
   "source": [
    "child_query"
   ]
  },
  {
   "cell_type": "code",
   "execution_count": 20,
   "id": "279727ac",
   "metadata": {},
   "outputs": [],
   "source": [
    "#Меняем существующие поля\n",
    "child_query.surname = 'Певищев'\n",
    "child_query.save()"
   ]
  },
  {
   "cell_type": "code",
   "execution_count": 21,
   "id": "806647a0",
   "metadata": {},
   "outputs": [],
   "source": [
    "#Заново кверим базу\n",
    "child_query_new = GiftedChild.objects.get(name='Певец')"
   ]
  },
  {
   "cell_type": "code",
   "execution_count": 22,
   "id": "398aeab4",
   "metadata": {},
   "outputs": [
    {
     "data": {
      "text/plain": [
       "'Певищев'"
      ]
     },
     "execution_count": 22,
     "metadata": {},
     "output_type": "execute_result"
    }
   ],
   "source": [
    "#Проверяем, что фамилия изменилась\n",
    "child_query_new.surname"
   ]
  },
  {
   "cell_type": "code",
   "execution_count": 23,
   "id": "d8cff494",
   "metadata": {},
   "outputs": [
    {
     "data": {
      "text/plain": [
       "True"
      ]
     },
     "execution_count": 23,
     "metadata": {},
     "output_type": "execute_result"
    }
   ],
   "source": [
    "#При этом это один и тот же ребенок\n",
    "child_query_new == child_query"
   ]
  },
  {
   "cell_type": "code",
   "execution_count": 24,
   "id": "b6b5f675",
   "metadata": {},
   "outputs": [],
   "source": [
    "#Создаем второго ребенка\n",
    "child2 = GiftedChild.objects.create(specialization='D', \n",
    "                                    name='Оленевод', \n",
    "                                    surname='Оленеводов', \n",
    "                                    bio='Оленевод Оленеводов родился в чуме и первое что он сделал - выпас сразу 20 оленей! Этот талант не пропадет!')"
   ]
  },
  {
   "cell_type": "code",
   "execution_count": 25,
   "id": "82fb74db",
   "metadata": {},
   "outputs": [
    {
     "data": {
      "text/plain": [
       "<QuerySet [<GiftedChild: GiftedChild object (2)>]>"
      ]
     },
     "execution_count": 25,
     "metadata": {},
     "output_type": "execute_result"
    }
   ],
   "source": [
    "#Через фильтр можно делать тонкую настройку выгрузки, выгружаем всех детей с аттрибутом D в поле specialization\n",
    "GiftedChild.objects.filter(specialization__icontains='D').all()"
   ]
  },
  {
   "cell_type": "code",
   "execution_count": 26,
   "id": "f58d276a",
   "metadata": {},
   "outputs": [],
   "source": [
    "#Забираем первого ребенка из БД\n",
    "olenevod = GiftedChild.objects.filter(specialization__icontains='D').all()[0]"
   ]
  },
  {
   "cell_type": "code",
   "execution_count": 27,
   "id": "517c5276",
   "metadata": {},
   "outputs": [
    {
     "data": {
      "text/plain": [
       "'Оленевод Оленеводов родился в чуме и первое что он сделал - выпас сразу 20 оленей! Этот талант не пропадет!'"
      ]
     },
     "execution_count": 27,
     "metadata": {},
     "output_type": "execute_result"
    }
   ],
   "source": [
    "#чек био\n",
    "olenevod.bio"
   ]
  },
  {
   "cell_type": "code",
   "execution_count": 28,
   "id": "9df2b689",
   "metadata": {},
   "outputs": [],
   "source": [
    "#добавляем певца в подписчиков оленевода\n",
    "olenevod.subs.add(child_query_new)"
   ]
  },
  {
   "cell_type": "code",
   "execution_count": 29,
   "id": "c7810671",
   "metadata": {},
   "outputs": [
    {
     "name": "stdout",
     "output_type": "stream",
     "text": [
      "{'uuid': 1, 'specialization': 'A', 'name': 'Певец', 'surname': 'Певищев', 'bio': 'Певец Певцов родился в чуме и первое что он сделал - исполнил 7ую симфонию Чайковского. Этот талант не пропадет!', 'created_at': datetime.datetime(2021, 10, 9, 8, 59, 52, 429061, tzinfo=<UTC>), 'updated_at': datetime.datetime(2021, 10, 9, 8, 59, 53, 618542, tzinfo=<UTC>)}\n"
     ]
    }
   ],
   "source": [
    "#Так можно достать всех сабов\n",
    "for i in olenevod.subs.all().values():\n",
    "    print(i)"
   ]
  },
  {
   "cell_type": "markdown",
   "id": "e3fe3654",
   "metadata": {},
   "source": [
    "Сабов можно кверить так же, как бдху!"
   ]
  },
  {
   "cell_type": "code",
   "execution_count": 10,
   "id": "3403dac1",
   "metadata": {},
   "outputs": [
    {
     "data": {
      "text/plain": [
       "(4, {'database.GiftedChild_subscribers': 1, 'database.GiftedChild': 3})"
      ]
     },
     "execution_count": 10,
     "metadata": {},
     "output_type": "execute_result"
    }
   ],
   "source": [
    "#Фулл зачистка базы, аккуратно, блять!\n",
    "GiftedChild.objects.all().delete()"
   ]
  },
  {
   "cell_type": "code",
   "execution_count": 35,
   "id": "b519bcee",
   "metadata": {},
   "outputs": [
    {
     "data": {
      "text/plain": [
       "[{'uuid': 1,\n",
       "  'specialization': 'A',\n",
       "  'name': 'Певец',\n",
       "  'surname': 'Певищев',\n",
       "  'bio': 'Певец Певцов родился в чуме и первое что он сделал - исполнил 7ую симфонию Чайковского. Этот талант не пропадет!',\n",
       "  'created_at': datetime.datetime(2021, 10, 9, 8, 59, 52, 429061, tzinfo=<UTC>),\n",
       "  'updated_at': datetime.datetime(2021, 10, 9, 8, 59, 53, 618542, tzinfo=<UTC>)},\n",
       " {'uuid': 2,\n",
       "  'specialization': 'D',\n",
       "  'name': 'Оленевод',\n",
       "  'surname': 'Оленеводов',\n",
       "  'bio': 'Оленевод Оленеводов родился в чуме и первое что он сделал - выпас сразу 20 оленей! Этот талант не пропадет!',\n",
       "  'created_at': datetime.datetime(2021, 10, 9, 8, 59, 54, 590691, tzinfo=<UTC>),\n",
       "  'updated_at': datetime.datetime(2021, 10, 9, 8, 59, 54, 590731, tzinfo=<UTC>)}]"
      ]
     },
     "execution_count": 35,
     "metadata": {},
     "output_type": "execute_result"
    }
   ],
   "source": [
    "[i for i in GiftedChild.objects.all().values()]"
   ]
  }
 ],
 "metadata": {
  "kernelspec": {
   "display_name": "Python 3 (ipykernel)",
   "language": "python",
   "name": "python3"
  },
  "language_info": {
   "codemirror_mode": {
    "name": "ipython",
    "version": 3
   },
   "file_extension": ".py",
   "mimetype": "text/x-python",
   "name": "python",
   "nbconvert_exporter": "python",
   "pygments_lexer": "ipython3",
   "version": "3.8.10"
  }
 },
 "nbformat": 4,
 "nbformat_minor": 5
}
