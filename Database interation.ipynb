{
 "cells": [
  {
   "cell_type": "code",
   "execution_count": 1,
   "id": "b59ffca4",
   "metadata": {},
   "outputs": [],
   "source": [
    "import pandas as pd\n",
    "from datetime import datetime"
   ]
  },
  {
   "cell_type": "markdown",
   "id": "b7f6216a",
   "metadata": {},
   "source": [
    "После внесения изменений в файл models.py необходимо запустить <br>\n",
    "python manage.py makemigration && python manage.py migrate"
   ]
  },
  {
   "cell_type": "code",
   "execution_count": 2,
   "id": "2932c00f",
   "metadata": {},
   "outputs": [],
   "source": [
    "import os\n",
    "import django\n",
    "os.environ.setdefault('DJANGO_SETTINGS_MODULE', 'hackathon.settings')\n",
    "os.environ[\"DJANGO_ALLOW_ASYNC_UNSAFE\"] = \"true\"\n",
    "django.setup()"
   ]
  },
  {
   "cell_type": "code",
   "execution_count": 2,
   "id": "1862cbbc",
   "metadata": {},
   "outputs": [],
   "source": [
    "class DatabaseService:\n",
    "    def save_talent(self, talents):\n",
    "        for i in range(len(talents)):\n",
    "\n",
    "            talent = talents.iloc[i]\n",
    "            print(i)\n",
    "            print(talent[\"talant_name\"])\n",
    "            talent_db = Talent.objects.create(name=talent[\"talant_name\"])\n",
    "\n",
    "    def save_achievements(self, achievements):\n",
    "        for i in range(len(achievements)):\n",
    "            achievement = achievements.iloc[i]\n",
    "            achievement_db = Achievement.objects.create(name=achievement[\"achievement_name\"],\n",
    "                                                        image_url=achievement[\"achievement_name\"],\n",
    "                                                        description=achievement[\"image_url\"],\n",
    "                                                        achievement_type=achievement[\"type\"],\n",
    "                                                        talent_points=achievement[\"talant_points\"]\n",
    "                                                        )\n",
    "\n",
    "    def save_achievements(self, achievements):\n",
    "        for i in range(len(achievements)):\n",
    "            achievement = achievements.iloc[i]\n",
    "            achievement_db = Achievement.objects.create(name=achievement[\"achievement_name\"],\n",
    "                                                        image_url=achievement[\"achievement_name\"],\n",
    "                                                        description=achievement[\"image_url\"],\n",
    "                                                        achievement_type=achievement[\"type\"],\n",
    "                                                        talent_points=achievement[\"talant_points\"]\n",
    "                                                        )\n",
    "\n",
    "    def save_challenges(self, challenges):\n",
    "        for i in range(len(challenges)):\n",
    "            challenge = challenges.iloc[i]\n",
    "            print(challenge)\n",
    "            talent_db = Talent.objects.get(pk=int(challenge[\"talant_id\"])).values()[0]\n",
    "            achievement_db = Achievement.objects.get(id=challenge[\"achievement_id\"]).values()[0]\n",
    "            challenge_db = Challenge.objects.create(challenge_name=challenge[\"challenge_name\"],\n",
    "                                                    image_url=challenge[\"image_url\"],\n",
    "                                                    req_talent_level=challenge[\"req_talant_level\"],\n",
    "                                                    description=challenge[\"challenge_description\"],\n",
    "                                                    talent=talent_db,\n",
    "                                                    achievement=achievement_db)\n",
    "\n",
    "    def save_tasks(self, tasks):\n",
    "        for i in range(len(tasks)):\n",
    "            task = tasks.iloc[i]\n",
    "            challenge_db = Challenge.objects.get(pk=int(task[\"challenge_id\"])).values()[0]\n",
    "            task_db = Task.objects.create(challenge=challenge_db,\n",
    "                                          task_name=task[\"task_name\"],\n",
    "                                          description=task[\"description\"],\n",
    "                                          image_url=task[\"url\"],\n",
    "                                          task_points=task[\"talant_points\"],\n",
    "                                          task_number=task[\"task_number\"])\n",
    "\n",
    "    def save_steps(self, steps):\n",
    "        for i in range(len(steps)):\n",
    "            step = steps.iloc[i]\n",
    "            task_db = Task.objects.get(pk=int(step[\"task_id\"])).values()[0]\n",
    "            step_db = Step.objects.create(task=task_db,\n",
    "                                          step_name=step[\"step_name\"],\n",
    "                                          step_number=step[\"step_number\"],\n",
    "                                          step_text=step[\"step_text\"],\n",
    "                                          image_url=step[\"image_url\"],\n",
    "                                          button_text=step[\"button_text\"],\n",
    "                                          meta_type=step[\"meta_type\"],\n",
    "                                          meta_urls=step[\"meta_urls\"])\n"
   ]
  },
  {
   "cell_type": "code",
   "execution_count": 3,
   "id": "04ac0e48",
   "metadata": {},
   "outputs": [],
   "source": [
    "class ChallengesParser(DatabaseService):\n",
    "    def __init__(self, path_to_file = \"../data/Challenges_DS29.xlsx\"):\n",
    "        self.path_to_file = path_to_file\n",
    "\n",
    "    def parse(self):\n",
    "        challenges = pd.read_excel(self.path_to_file, sheet_name=\"Challenges\")\n",
    "        tasks = pd.read_excel(self.path_to_file, sheet_name=\"Tasks\")\n",
    "        steps = pd.read_excel(self.path_to_file, sheet_name=\"Steps\")\n",
    "        achievements = pd.read_excel(self.path_to_file, sheet_name=\"Achievements\")\n",
    "        talents = pd.read_excel(self.path_to_file, sheet_name=\"Talants\")\n",
    "\n",
    "        self.save_talent(talents)\n",
    "        self.save_achievements(achievements)\n",
    "        self.save_challenges(challenges)\n",
    "        self.save_tasks(tasks)\n",
    "        self.save_steps(steps)"
   ]
  },
  {
   "cell_type": "code",
   "execution_count": 4,
   "id": "af3fefe2",
   "metadata": {},
   "outputs": [],
   "source": [
    "from services.ChallengesParser import ChallengesParser"
   ]
  },
  {
   "cell_type": "code",
   "execution_count": 5,
   "id": "ffdb7b26",
   "metadata": {},
   "outputs": [],
   "source": [
    "parser = ChallengesParser(\"./data/Challenges_DS29.xlsx\")"
   ]
  },
  {
   "cell_type": "code",
   "execution_count": 6,
   "id": "f5620c60",
   "metadata": {},
   "outputs": [
    {
     "name": "stdout",
     "output_type": "stream",
     "text": [
      "0\n",
      "Личный бренд\n"
     ]
    },
    {
     "ename": "IntegrityError",
     "evalue": "UNIQUE constraint failed: database_talent.name",
     "output_type": "error",
     "traceback": [
      "\u001B[0;31m---------------------------------------------------------------------------\u001B[0m",
      "\u001B[0;31mIntegrityError\u001B[0m                            Traceback (most recent call last)",
      "\u001B[0;32m~/.local/lib/python3.8/site-packages/django/db/backends/utils.py\u001B[0m in \u001B[0;36m_execute\u001B[0;34m(self, sql, params, *ignored_wrapper_args)\u001B[0m\n\u001B[1;32m     83\u001B[0m             \u001B[0;32melse\u001B[0m\u001B[0;34m:\u001B[0m\u001B[0;34m\u001B[0m\u001B[0;34m\u001B[0m\u001B[0m\n\u001B[0;32m---> 84\u001B[0;31m                 \u001B[0;32mreturn\u001B[0m \u001B[0mself\u001B[0m\u001B[0;34m.\u001B[0m\u001B[0mcursor\u001B[0m\u001B[0;34m.\u001B[0m\u001B[0mexecute\u001B[0m\u001B[0;34m(\u001B[0m\u001B[0msql\u001B[0m\u001B[0;34m,\u001B[0m \u001B[0mparams\u001B[0m\u001B[0;34m)\u001B[0m\u001B[0;34m\u001B[0m\u001B[0;34m\u001B[0m\u001B[0m\n\u001B[0m\u001B[1;32m     85\u001B[0m \u001B[0;34m\u001B[0m\u001B[0m\n",
      "\u001B[0;32m~/.local/lib/python3.8/site-packages/django/db/backends/sqlite3/base.py\u001B[0m in \u001B[0;36mexecute\u001B[0;34m(self, query, params)\u001B[0m\n\u001B[1;32m    422\u001B[0m         \u001B[0mquery\u001B[0m \u001B[0;34m=\u001B[0m \u001B[0mself\u001B[0m\u001B[0;34m.\u001B[0m\u001B[0mconvert_query\u001B[0m\u001B[0;34m(\u001B[0m\u001B[0mquery\u001B[0m\u001B[0;34m)\u001B[0m\u001B[0;34m\u001B[0m\u001B[0;34m\u001B[0m\u001B[0m\n\u001B[0;32m--> 423\u001B[0;31m         \u001B[0;32mreturn\u001B[0m \u001B[0mDatabase\u001B[0m\u001B[0;34m.\u001B[0m\u001B[0mCursor\u001B[0m\u001B[0;34m.\u001B[0m\u001B[0mexecute\u001B[0m\u001B[0;34m(\u001B[0m\u001B[0mself\u001B[0m\u001B[0;34m,\u001B[0m \u001B[0mquery\u001B[0m\u001B[0;34m,\u001B[0m \u001B[0mparams\u001B[0m\u001B[0;34m)\u001B[0m\u001B[0;34m\u001B[0m\u001B[0;34m\u001B[0m\u001B[0m\n\u001B[0m\u001B[1;32m    424\u001B[0m \u001B[0;34m\u001B[0m\u001B[0m\n",
      "\u001B[0;31mIntegrityError\u001B[0m: UNIQUE constraint failed: database_talent.name",
      "\nThe above exception was the direct cause of the following exception:\n",
      "\u001B[0;31mIntegrityError\u001B[0m                            Traceback (most recent call last)",
      "\u001B[0;32m/tmp/ipykernel_23528/637444277.py\u001B[0m in \u001B[0;36m<module>\u001B[0;34m\u001B[0m\n\u001B[0;32m----> 1\u001B[0;31m \u001B[0mparser\u001B[0m\u001B[0;34m.\u001B[0m\u001B[0mparse\u001B[0m\u001B[0;34m(\u001B[0m\u001B[0;34m)\u001B[0m\u001B[0;34m\u001B[0m\u001B[0;34m\u001B[0m\u001B[0m\n\u001B[0m",
      "\u001B[0;32m~/hackathon/services/ChallengesParser.py\u001B[0m in \u001B[0;36mparse\u001B[0;34m(self)\u001B[0m\n\u001B[1;32m     15\u001B[0m         \u001B[0mtalents\u001B[0m \u001B[0;34m=\u001B[0m \u001B[0mpd\u001B[0m\u001B[0;34m.\u001B[0m\u001B[0mread_excel\u001B[0m\u001B[0;34m(\u001B[0m\u001B[0mself\u001B[0m\u001B[0;34m.\u001B[0m\u001B[0mpath_to_file\u001B[0m\u001B[0;34m,\u001B[0m \u001B[0msheet_name\u001B[0m\u001B[0;34m=\u001B[0m\u001B[0;34m\"Talants\"\u001B[0m\u001B[0;34m)\u001B[0m\u001B[0;34m\u001B[0m\u001B[0;34m\u001B[0m\u001B[0m\n\u001B[1;32m     16\u001B[0m \u001B[0;34m\u001B[0m\u001B[0m\n\u001B[0;32m---> 17\u001B[0;31m         \u001B[0mself\u001B[0m\u001B[0;34m.\u001B[0m\u001B[0msave_talent\u001B[0m\u001B[0;34m(\u001B[0m\u001B[0mtalents\u001B[0m\u001B[0;34m)\u001B[0m\u001B[0;34m\u001B[0m\u001B[0;34m\u001B[0m\u001B[0m\n\u001B[0m\u001B[1;32m     18\u001B[0m         \u001B[0mself\u001B[0m\u001B[0;34m.\u001B[0m\u001B[0msave_achievements\u001B[0m\u001B[0;34m(\u001B[0m\u001B[0machievements\u001B[0m\u001B[0;34m)\u001B[0m\u001B[0;34m\u001B[0m\u001B[0;34m\u001B[0m\u001B[0m\n\u001B[1;32m     19\u001B[0m         \u001B[0mself\u001B[0m\u001B[0;34m.\u001B[0m\u001B[0msave_challenges\u001B[0m\u001B[0;34m(\u001B[0m\u001B[0mchallenges\u001B[0m\u001B[0;34m)\u001B[0m\u001B[0;34m\u001B[0m\u001B[0;34m\u001B[0m\u001B[0m\n",
      "\u001B[0;32m~/hackathon/services/DatabaseService.py\u001B[0m in \u001B[0;36msave_talent\u001B[0;34m(self, talents)\u001B[0m\n\u001B[1;32m      9\u001B[0m             \u001B[0mprint\u001B[0m\u001B[0;34m(\u001B[0m\u001B[0mi\u001B[0m\u001B[0;34m)\u001B[0m\u001B[0;34m\u001B[0m\u001B[0;34m\u001B[0m\u001B[0m\n\u001B[1;32m     10\u001B[0m             \u001B[0mprint\u001B[0m\u001B[0;34m(\u001B[0m\u001B[0mtalent\u001B[0m\u001B[0;34m[\u001B[0m\u001B[0;34m\"talant_name\"\u001B[0m\u001B[0;34m]\u001B[0m\u001B[0;34m)\u001B[0m\u001B[0;34m\u001B[0m\u001B[0;34m\u001B[0m\u001B[0m\n\u001B[0;32m---> 11\u001B[0;31m             \u001B[0mtalent_db\u001B[0m \u001B[0;34m=\u001B[0m \u001B[0mTalent\u001B[0m\u001B[0;34m.\u001B[0m\u001B[0mobjects\u001B[0m\u001B[0;34m.\u001B[0m\u001B[0mcreate\u001B[0m\u001B[0;34m(\u001B[0m\u001B[0mname\u001B[0m\u001B[0;34m=\u001B[0m\u001B[0mtalent\u001B[0m\u001B[0;34m[\u001B[0m\u001B[0;34m\"talant_name\"\u001B[0m\u001B[0;34m]\u001B[0m\u001B[0;34m)\u001B[0m\u001B[0;34m\u001B[0m\u001B[0;34m\u001B[0m\u001B[0m\n\u001B[0m\u001B[1;32m     12\u001B[0m \u001B[0;34m\u001B[0m\u001B[0m\n\u001B[1;32m     13\u001B[0m     \u001B[0;32mdef\u001B[0m \u001B[0msave_achievements\u001B[0m\u001B[0;34m(\u001B[0m\u001B[0mself\u001B[0m\u001B[0;34m,\u001B[0m \u001B[0machievements\u001B[0m\u001B[0;34m)\u001B[0m\u001B[0;34m:\u001B[0m\u001B[0;34m\u001B[0m\u001B[0;34m\u001B[0m\u001B[0m\n",
      "\u001B[0;32m~/.local/lib/python3.8/site-packages/django/db/models/manager.py\u001B[0m in \u001B[0;36mmanager_method\u001B[0;34m(self, *args, **kwargs)\u001B[0m\n\u001B[1;32m     83\u001B[0m         \u001B[0;32mdef\u001B[0m \u001B[0mcreate_method\u001B[0m\u001B[0;34m(\u001B[0m\u001B[0mname\u001B[0m\u001B[0;34m,\u001B[0m \u001B[0mmethod\u001B[0m\u001B[0;34m)\u001B[0m\u001B[0;34m:\u001B[0m\u001B[0;34m\u001B[0m\u001B[0;34m\u001B[0m\u001B[0m\n\u001B[1;32m     84\u001B[0m             \u001B[0;32mdef\u001B[0m \u001B[0mmanager_method\u001B[0m\u001B[0;34m(\u001B[0m\u001B[0mself\u001B[0m\u001B[0;34m,\u001B[0m \u001B[0;34m*\u001B[0m\u001B[0margs\u001B[0m\u001B[0;34m,\u001B[0m \u001B[0;34m**\u001B[0m\u001B[0mkwargs\u001B[0m\u001B[0;34m)\u001B[0m\u001B[0;34m:\u001B[0m\u001B[0;34m\u001B[0m\u001B[0;34m\u001B[0m\u001B[0m\n\u001B[0;32m---> 85\u001B[0;31m                 \u001B[0;32mreturn\u001B[0m \u001B[0mgetattr\u001B[0m\u001B[0;34m(\u001B[0m\u001B[0mself\u001B[0m\u001B[0;34m.\u001B[0m\u001B[0mget_queryset\u001B[0m\u001B[0;34m(\u001B[0m\u001B[0;34m)\u001B[0m\u001B[0;34m,\u001B[0m \u001B[0mname\u001B[0m\u001B[0;34m)\u001B[0m\u001B[0;34m(\u001B[0m\u001B[0;34m*\u001B[0m\u001B[0margs\u001B[0m\u001B[0;34m,\u001B[0m \u001B[0;34m**\u001B[0m\u001B[0mkwargs\u001B[0m\u001B[0;34m)\u001B[0m\u001B[0;34m\u001B[0m\u001B[0;34m\u001B[0m\u001B[0m\n\u001B[0m\u001B[1;32m     86\u001B[0m             \u001B[0mmanager_method\u001B[0m\u001B[0;34m.\u001B[0m\u001B[0m__name__\u001B[0m \u001B[0;34m=\u001B[0m \u001B[0mmethod\u001B[0m\u001B[0;34m.\u001B[0m\u001B[0m__name__\u001B[0m\u001B[0;34m\u001B[0m\u001B[0;34m\u001B[0m\u001B[0m\n\u001B[1;32m     87\u001B[0m             \u001B[0mmanager_method\u001B[0m\u001B[0;34m.\u001B[0m\u001B[0m__doc__\u001B[0m \u001B[0;34m=\u001B[0m \u001B[0mmethod\u001B[0m\u001B[0;34m.\u001B[0m\u001B[0m__doc__\u001B[0m\u001B[0;34m\u001B[0m\u001B[0;34m\u001B[0m\u001B[0m\n",
      "\u001B[0;32m~/.local/lib/python3.8/site-packages/django/db/models/query.py\u001B[0m in \u001B[0;36mcreate\u001B[0;34m(self, **kwargs)\u001B[0m\n\u001B[1;32m    451\u001B[0m         \u001B[0mobj\u001B[0m \u001B[0;34m=\u001B[0m \u001B[0mself\u001B[0m\u001B[0;34m.\u001B[0m\u001B[0mmodel\u001B[0m\u001B[0;34m(\u001B[0m\u001B[0;34m**\u001B[0m\u001B[0mkwargs\u001B[0m\u001B[0;34m)\u001B[0m\u001B[0;34m\u001B[0m\u001B[0;34m\u001B[0m\u001B[0m\n\u001B[1;32m    452\u001B[0m         \u001B[0mself\u001B[0m\u001B[0;34m.\u001B[0m\u001B[0m_for_write\u001B[0m \u001B[0;34m=\u001B[0m \u001B[0;32mTrue\u001B[0m\u001B[0;34m\u001B[0m\u001B[0;34m\u001B[0m\u001B[0m\n\u001B[0;32m--> 453\u001B[0;31m         \u001B[0mobj\u001B[0m\u001B[0;34m.\u001B[0m\u001B[0msave\u001B[0m\u001B[0;34m(\u001B[0m\u001B[0mforce_insert\u001B[0m\u001B[0;34m=\u001B[0m\u001B[0;32mTrue\u001B[0m\u001B[0;34m,\u001B[0m \u001B[0musing\u001B[0m\u001B[0;34m=\u001B[0m\u001B[0mself\u001B[0m\u001B[0;34m.\u001B[0m\u001B[0mdb\u001B[0m\u001B[0;34m)\u001B[0m\u001B[0;34m\u001B[0m\u001B[0;34m\u001B[0m\u001B[0m\n\u001B[0m\u001B[1;32m    454\u001B[0m         \u001B[0;32mreturn\u001B[0m \u001B[0mobj\u001B[0m\u001B[0;34m\u001B[0m\u001B[0;34m\u001B[0m\u001B[0m\n\u001B[1;32m    455\u001B[0m \u001B[0;34m\u001B[0m\u001B[0m\n",
      "\u001B[0;32m~/.local/lib/python3.8/site-packages/django/db/models/base.py\u001B[0m in \u001B[0;36msave\u001B[0;34m(self, force_insert, force_update, using, update_fields)\u001B[0m\n\u001B[1;32m    724\u001B[0m                 \u001B[0mupdate_fields\u001B[0m \u001B[0;34m=\u001B[0m \u001B[0mfrozenset\u001B[0m\u001B[0;34m(\u001B[0m\u001B[0mloaded_fields\u001B[0m\u001B[0;34m)\u001B[0m\u001B[0;34m\u001B[0m\u001B[0;34m\u001B[0m\u001B[0m\n\u001B[1;32m    725\u001B[0m \u001B[0;34m\u001B[0m\u001B[0m\n\u001B[0;32m--> 726\u001B[0;31m         self.save_base(using=using, force_insert=force_insert,\n\u001B[0m\u001B[1;32m    727\u001B[0m                        force_update=force_update, update_fields=update_fields)\n\u001B[1;32m    728\u001B[0m     \u001B[0msave\u001B[0m\u001B[0;34m.\u001B[0m\u001B[0malters_data\u001B[0m \u001B[0;34m=\u001B[0m \u001B[0;32mTrue\u001B[0m\u001B[0;34m\u001B[0m\u001B[0;34m\u001B[0m\u001B[0m\n",
      "\u001B[0;32m~/.local/lib/python3.8/site-packages/django/db/models/base.py\u001B[0m in \u001B[0;36msave_base\u001B[0;34m(self, raw, force_insert, force_update, using, update_fields)\u001B[0m\n\u001B[1;32m    761\u001B[0m             \u001B[0;32mif\u001B[0m \u001B[0;32mnot\u001B[0m \u001B[0mraw\u001B[0m\u001B[0;34m:\u001B[0m\u001B[0;34m\u001B[0m\u001B[0;34m\u001B[0m\u001B[0m\n\u001B[1;32m    762\u001B[0m                 \u001B[0mparent_inserted\u001B[0m \u001B[0;34m=\u001B[0m \u001B[0mself\u001B[0m\u001B[0;34m.\u001B[0m\u001B[0m_save_parents\u001B[0m\u001B[0;34m(\u001B[0m\u001B[0mcls\u001B[0m\u001B[0;34m,\u001B[0m \u001B[0musing\u001B[0m\u001B[0;34m,\u001B[0m \u001B[0mupdate_fields\u001B[0m\u001B[0;34m)\u001B[0m\u001B[0;34m\u001B[0m\u001B[0;34m\u001B[0m\u001B[0m\n\u001B[0;32m--> 763\u001B[0;31m             updated = self._save_table(\n\u001B[0m\u001B[1;32m    764\u001B[0m                 \u001B[0mraw\u001B[0m\u001B[0;34m,\u001B[0m \u001B[0mcls\u001B[0m\u001B[0;34m,\u001B[0m \u001B[0mforce_insert\u001B[0m \u001B[0;32mor\u001B[0m \u001B[0mparent_inserted\u001B[0m\u001B[0;34m,\u001B[0m\u001B[0;34m\u001B[0m\u001B[0;34m\u001B[0m\u001B[0m\n\u001B[1;32m    765\u001B[0m                 \u001B[0mforce_update\u001B[0m\u001B[0;34m,\u001B[0m \u001B[0musing\u001B[0m\u001B[0;34m,\u001B[0m \u001B[0mupdate_fields\u001B[0m\u001B[0;34m,\u001B[0m\u001B[0;34m\u001B[0m\u001B[0;34m\u001B[0m\u001B[0m\n",
      "\u001B[0;32m~/.local/lib/python3.8/site-packages/django/db/models/base.py\u001B[0m in \u001B[0;36m_save_table\u001B[0;34m(self, raw, cls, force_insert, force_update, using, update_fields)\u001B[0m\n\u001B[1;32m    866\u001B[0m \u001B[0;34m\u001B[0m\u001B[0m\n\u001B[1;32m    867\u001B[0m             \u001B[0mreturning_fields\u001B[0m \u001B[0;34m=\u001B[0m \u001B[0mmeta\u001B[0m\u001B[0;34m.\u001B[0m\u001B[0mdb_returning_fields\u001B[0m\u001B[0;34m\u001B[0m\u001B[0;34m\u001B[0m\u001B[0m\n\u001B[0;32m--> 868\u001B[0;31m             \u001B[0mresults\u001B[0m \u001B[0;34m=\u001B[0m \u001B[0mself\u001B[0m\u001B[0;34m.\u001B[0m\u001B[0m_do_insert\u001B[0m\u001B[0;34m(\u001B[0m\u001B[0mcls\u001B[0m\u001B[0;34m.\u001B[0m\u001B[0m_base_manager\u001B[0m\u001B[0;34m,\u001B[0m \u001B[0musing\u001B[0m\u001B[0;34m,\u001B[0m \u001B[0mfields\u001B[0m\u001B[0;34m,\u001B[0m \u001B[0mreturning_fields\u001B[0m\u001B[0;34m,\u001B[0m \u001B[0mraw\u001B[0m\u001B[0;34m)\u001B[0m\u001B[0;34m\u001B[0m\u001B[0;34m\u001B[0m\u001B[0m\n\u001B[0m\u001B[1;32m    869\u001B[0m             \u001B[0;32mif\u001B[0m \u001B[0mresults\u001B[0m\u001B[0;34m:\u001B[0m\u001B[0;34m\u001B[0m\u001B[0;34m\u001B[0m\u001B[0m\n\u001B[1;32m    870\u001B[0m                 \u001B[0;32mfor\u001B[0m \u001B[0mvalue\u001B[0m\u001B[0;34m,\u001B[0m \u001B[0mfield\u001B[0m \u001B[0;32min\u001B[0m \u001B[0mzip\u001B[0m\u001B[0;34m(\u001B[0m\u001B[0mresults\u001B[0m\u001B[0;34m[\u001B[0m\u001B[0;36m0\u001B[0m\u001B[0;34m]\u001B[0m\u001B[0;34m,\u001B[0m \u001B[0mreturning_fields\u001B[0m\u001B[0;34m)\u001B[0m\u001B[0;34m:\u001B[0m\u001B[0;34m\u001B[0m\u001B[0;34m\u001B[0m\u001B[0m\n",
      "\u001B[0;32m~/.local/lib/python3.8/site-packages/django/db/models/base.py\u001B[0m in \u001B[0;36m_do_insert\u001B[0;34m(self, manager, using, fields, returning_fields, raw)\u001B[0m\n\u001B[1;32m    904\u001B[0m         \u001B[0;32mreturn\u001B[0m \u001B[0mthe\u001B[0m \u001B[0mnewly\u001B[0m \u001B[0mcreated\u001B[0m \u001B[0mdata\u001B[0m \u001B[0;32mfor\u001B[0m \u001B[0mthe\u001B[0m \u001B[0mmodel\u001B[0m\u001B[0;34m.\u001B[0m\u001B[0;34m\u001B[0m\u001B[0;34m\u001B[0m\u001B[0m\n\u001B[1;32m    905\u001B[0m         \"\"\"\n\u001B[0;32m--> 906\u001B[0;31m         return manager._insert(\n\u001B[0m\u001B[1;32m    907\u001B[0m             \u001B[0;34m[\u001B[0m\u001B[0mself\u001B[0m\u001B[0;34m]\u001B[0m\u001B[0;34m,\u001B[0m \u001B[0mfields\u001B[0m\u001B[0;34m=\u001B[0m\u001B[0mfields\u001B[0m\u001B[0;34m,\u001B[0m \u001B[0mreturning_fields\u001B[0m\u001B[0;34m=\u001B[0m\u001B[0mreturning_fields\u001B[0m\u001B[0;34m,\u001B[0m\u001B[0;34m\u001B[0m\u001B[0;34m\u001B[0m\u001B[0m\n\u001B[1;32m    908\u001B[0m             \u001B[0musing\u001B[0m\u001B[0;34m=\u001B[0m\u001B[0musing\u001B[0m\u001B[0;34m,\u001B[0m \u001B[0mraw\u001B[0m\u001B[0;34m=\u001B[0m\u001B[0mraw\u001B[0m\u001B[0;34m,\u001B[0m\u001B[0;34m\u001B[0m\u001B[0;34m\u001B[0m\u001B[0m\n",
      "\u001B[0;32m~/.local/lib/python3.8/site-packages/django/db/models/manager.py\u001B[0m in \u001B[0;36mmanager_method\u001B[0;34m(self, *args, **kwargs)\u001B[0m\n\u001B[1;32m     83\u001B[0m         \u001B[0;32mdef\u001B[0m \u001B[0mcreate_method\u001B[0m\u001B[0;34m(\u001B[0m\u001B[0mname\u001B[0m\u001B[0;34m,\u001B[0m \u001B[0mmethod\u001B[0m\u001B[0;34m)\u001B[0m\u001B[0;34m:\u001B[0m\u001B[0;34m\u001B[0m\u001B[0;34m\u001B[0m\u001B[0m\n\u001B[1;32m     84\u001B[0m             \u001B[0;32mdef\u001B[0m \u001B[0mmanager_method\u001B[0m\u001B[0;34m(\u001B[0m\u001B[0mself\u001B[0m\u001B[0;34m,\u001B[0m \u001B[0;34m*\u001B[0m\u001B[0margs\u001B[0m\u001B[0;34m,\u001B[0m \u001B[0;34m**\u001B[0m\u001B[0mkwargs\u001B[0m\u001B[0;34m)\u001B[0m\u001B[0;34m:\u001B[0m\u001B[0;34m\u001B[0m\u001B[0;34m\u001B[0m\u001B[0m\n\u001B[0;32m---> 85\u001B[0;31m                 \u001B[0;32mreturn\u001B[0m \u001B[0mgetattr\u001B[0m\u001B[0;34m(\u001B[0m\u001B[0mself\u001B[0m\u001B[0;34m.\u001B[0m\u001B[0mget_queryset\u001B[0m\u001B[0;34m(\u001B[0m\u001B[0;34m)\u001B[0m\u001B[0;34m,\u001B[0m \u001B[0mname\u001B[0m\u001B[0;34m)\u001B[0m\u001B[0;34m(\u001B[0m\u001B[0;34m*\u001B[0m\u001B[0margs\u001B[0m\u001B[0;34m,\u001B[0m \u001B[0;34m**\u001B[0m\u001B[0mkwargs\u001B[0m\u001B[0;34m)\u001B[0m\u001B[0;34m\u001B[0m\u001B[0;34m\u001B[0m\u001B[0m\n\u001B[0m\u001B[1;32m     86\u001B[0m             \u001B[0mmanager_method\u001B[0m\u001B[0;34m.\u001B[0m\u001B[0m__name__\u001B[0m \u001B[0;34m=\u001B[0m \u001B[0mmethod\u001B[0m\u001B[0;34m.\u001B[0m\u001B[0m__name__\u001B[0m\u001B[0;34m\u001B[0m\u001B[0;34m\u001B[0m\u001B[0m\n\u001B[1;32m     87\u001B[0m             \u001B[0mmanager_method\u001B[0m\u001B[0;34m.\u001B[0m\u001B[0m__doc__\u001B[0m \u001B[0;34m=\u001B[0m \u001B[0mmethod\u001B[0m\u001B[0;34m.\u001B[0m\u001B[0m__doc__\u001B[0m\u001B[0;34m\u001B[0m\u001B[0;34m\u001B[0m\u001B[0m\n",
      "\u001B[0;32m~/.local/lib/python3.8/site-packages/django/db/models/query.py\u001B[0m in \u001B[0;36m_insert\u001B[0;34m(self, objs, fields, returning_fields, raw, using, ignore_conflicts)\u001B[0m\n\u001B[1;32m   1268\u001B[0m         \u001B[0mquery\u001B[0m \u001B[0;34m=\u001B[0m \u001B[0msql\u001B[0m\u001B[0;34m.\u001B[0m\u001B[0mInsertQuery\u001B[0m\u001B[0;34m(\u001B[0m\u001B[0mself\u001B[0m\u001B[0;34m.\u001B[0m\u001B[0mmodel\u001B[0m\u001B[0;34m,\u001B[0m \u001B[0mignore_conflicts\u001B[0m\u001B[0;34m=\u001B[0m\u001B[0mignore_conflicts\u001B[0m\u001B[0;34m)\u001B[0m\u001B[0;34m\u001B[0m\u001B[0;34m\u001B[0m\u001B[0m\n\u001B[1;32m   1269\u001B[0m         \u001B[0mquery\u001B[0m\u001B[0;34m.\u001B[0m\u001B[0minsert_values\u001B[0m\u001B[0;34m(\u001B[0m\u001B[0mfields\u001B[0m\u001B[0;34m,\u001B[0m \u001B[0mobjs\u001B[0m\u001B[0;34m,\u001B[0m \u001B[0mraw\u001B[0m\u001B[0;34m=\u001B[0m\u001B[0mraw\u001B[0m\u001B[0;34m)\u001B[0m\u001B[0;34m\u001B[0m\u001B[0;34m\u001B[0m\u001B[0m\n\u001B[0;32m-> 1270\u001B[0;31m         \u001B[0;32mreturn\u001B[0m \u001B[0mquery\u001B[0m\u001B[0;34m.\u001B[0m\u001B[0mget_compiler\u001B[0m\u001B[0;34m(\u001B[0m\u001B[0musing\u001B[0m\u001B[0;34m=\u001B[0m\u001B[0musing\u001B[0m\u001B[0;34m)\u001B[0m\u001B[0;34m.\u001B[0m\u001B[0mexecute_sql\u001B[0m\u001B[0;34m(\u001B[0m\u001B[0mreturning_fields\u001B[0m\u001B[0;34m)\u001B[0m\u001B[0;34m\u001B[0m\u001B[0;34m\u001B[0m\u001B[0m\n\u001B[0m\u001B[1;32m   1271\u001B[0m     \u001B[0m_insert\u001B[0m\u001B[0;34m.\u001B[0m\u001B[0malters_data\u001B[0m \u001B[0;34m=\u001B[0m \u001B[0;32mTrue\u001B[0m\u001B[0;34m\u001B[0m\u001B[0;34m\u001B[0m\u001B[0m\n\u001B[1;32m   1272\u001B[0m     \u001B[0m_insert\u001B[0m\u001B[0;34m.\u001B[0m\u001B[0mqueryset_only\u001B[0m \u001B[0;34m=\u001B[0m \u001B[0;32mFalse\u001B[0m\u001B[0;34m\u001B[0m\u001B[0;34m\u001B[0m\u001B[0m\n",
      "\u001B[0;32m~/.local/lib/python3.8/site-packages/django/db/models/sql/compiler.py\u001B[0m in \u001B[0;36mexecute_sql\u001B[0;34m(self, returning_fields)\u001B[0m\n\u001B[1;32m   1414\u001B[0m         \u001B[0;32mwith\u001B[0m \u001B[0mself\u001B[0m\u001B[0;34m.\u001B[0m\u001B[0mconnection\u001B[0m\u001B[0;34m.\u001B[0m\u001B[0mcursor\u001B[0m\u001B[0;34m(\u001B[0m\u001B[0;34m)\u001B[0m \u001B[0;32mas\u001B[0m \u001B[0mcursor\u001B[0m\u001B[0;34m:\u001B[0m\u001B[0;34m\u001B[0m\u001B[0;34m\u001B[0m\u001B[0m\n\u001B[1;32m   1415\u001B[0m             \u001B[0;32mfor\u001B[0m \u001B[0msql\u001B[0m\u001B[0;34m,\u001B[0m \u001B[0mparams\u001B[0m \u001B[0;32min\u001B[0m \u001B[0mself\u001B[0m\u001B[0;34m.\u001B[0m\u001B[0mas_sql\u001B[0m\u001B[0;34m(\u001B[0m\u001B[0;34m)\u001B[0m\u001B[0;34m:\u001B[0m\u001B[0;34m\u001B[0m\u001B[0;34m\u001B[0m\u001B[0m\n\u001B[0;32m-> 1416\u001B[0;31m                 \u001B[0mcursor\u001B[0m\u001B[0;34m.\u001B[0m\u001B[0mexecute\u001B[0m\u001B[0;34m(\u001B[0m\u001B[0msql\u001B[0m\u001B[0;34m,\u001B[0m \u001B[0mparams\u001B[0m\u001B[0;34m)\u001B[0m\u001B[0;34m\u001B[0m\u001B[0;34m\u001B[0m\u001B[0m\n\u001B[0m\u001B[1;32m   1417\u001B[0m             \u001B[0;32mif\u001B[0m \u001B[0;32mnot\u001B[0m \u001B[0mself\u001B[0m\u001B[0;34m.\u001B[0m\u001B[0mreturning_fields\u001B[0m\u001B[0;34m:\u001B[0m\u001B[0;34m\u001B[0m\u001B[0;34m\u001B[0m\u001B[0m\n\u001B[1;32m   1418\u001B[0m                 \u001B[0;32mreturn\u001B[0m \u001B[0;34m[\u001B[0m\u001B[0;34m]\u001B[0m\u001B[0;34m\u001B[0m\u001B[0;34m\u001B[0m\u001B[0m\n",
      "\u001B[0;32m~/.local/lib/python3.8/site-packages/django/db/backends/utils.py\u001B[0m in \u001B[0;36mexecute\u001B[0;34m(self, sql, params)\u001B[0m\n\u001B[1;32m     96\u001B[0m     \u001B[0;32mdef\u001B[0m \u001B[0mexecute\u001B[0m\u001B[0;34m(\u001B[0m\u001B[0mself\u001B[0m\u001B[0;34m,\u001B[0m \u001B[0msql\u001B[0m\u001B[0;34m,\u001B[0m \u001B[0mparams\u001B[0m\u001B[0;34m=\u001B[0m\u001B[0;32mNone\u001B[0m\u001B[0;34m)\u001B[0m\u001B[0;34m:\u001B[0m\u001B[0;34m\u001B[0m\u001B[0;34m\u001B[0m\u001B[0m\n\u001B[1;32m     97\u001B[0m         \u001B[0;32mwith\u001B[0m \u001B[0mself\u001B[0m\u001B[0;34m.\u001B[0m\u001B[0mdebug_sql\u001B[0m\u001B[0;34m(\u001B[0m\u001B[0msql\u001B[0m\u001B[0;34m,\u001B[0m \u001B[0mparams\u001B[0m\u001B[0;34m,\u001B[0m \u001B[0muse_last_executed_query\u001B[0m\u001B[0;34m=\u001B[0m\u001B[0;32mTrue\u001B[0m\u001B[0;34m)\u001B[0m\u001B[0;34m:\u001B[0m\u001B[0;34m\u001B[0m\u001B[0;34m\u001B[0m\u001B[0m\n\u001B[0;32m---> 98\u001B[0;31m             \u001B[0;32mreturn\u001B[0m \u001B[0msuper\u001B[0m\u001B[0;34m(\u001B[0m\u001B[0;34m)\u001B[0m\u001B[0;34m.\u001B[0m\u001B[0mexecute\u001B[0m\u001B[0;34m(\u001B[0m\u001B[0msql\u001B[0m\u001B[0;34m,\u001B[0m \u001B[0mparams\u001B[0m\u001B[0;34m)\u001B[0m\u001B[0;34m\u001B[0m\u001B[0;34m\u001B[0m\u001B[0m\n\u001B[0m\u001B[1;32m     99\u001B[0m \u001B[0;34m\u001B[0m\u001B[0m\n\u001B[1;32m    100\u001B[0m     \u001B[0;32mdef\u001B[0m \u001B[0mexecutemany\u001B[0m\u001B[0;34m(\u001B[0m\u001B[0mself\u001B[0m\u001B[0;34m,\u001B[0m \u001B[0msql\u001B[0m\u001B[0;34m,\u001B[0m \u001B[0mparam_list\u001B[0m\u001B[0;34m)\u001B[0m\u001B[0;34m:\u001B[0m\u001B[0;34m\u001B[0m\u001B[0;34m\u001B[0m\u001B[0m\n",
      "\u001B[0;32m~/.local/lib/python3.8/site-packages/django/db/backends/utils.py\u001B[0m in \u001B[0;36mexecute\u001B[0;34m(self, sql, params)\u001B[0m\n\u001B[1;32m     64\u001B[0m \u001B[0;34m\u001B[0m\u001B[0m\n\u001B[1;32m     65\u001B[0m     \u001B[0;32mdef\u001B[0m \u001B[0mexecute\u001B[0m\u001B[0;34m(\u001B[0m\u001B[0mself\u001B[0m\u001B[0;34m,\u001B[0m \u001B[0msql\u001B[0m\u001B[0;34m,\u001B[0m \u001B[0mparams\u001B[0m\u001B[0;34m=\u001B[0m\u001B[0;32mNone\u001B[0m\u001B[0;34m)\u001B[0m\u001B[0;34m:\u001B[0m\u001B[0;34m\u001B[0m\u001B[0;34m\u001B[0m\u001B[0m\n\u001B[0;32m---> 66\u001B[0;31m         \u001B[0;32mreturn\u001B[0m \u001B[0mself\u001B[0m\u001B[0;34m.\u001B[0m\u001B[0m_execute_with_wrappers\u001B[0m\u001B[0;34m(\u001B[0m\u001B[0msql\u001B[0m\u001B[0;34m,\u001B[0m \u001B[0mparams\u001B[0m\u001B[0;34m,\u001B[0m \u001B[0mmany\u001B[0m\u001B[0;34m=\u001B[0m\u001B[0;32mFalse\u001B[0m\u001B[0;34m,\u001B[0m \u001B[0mexecutor\u001B[0m\u001B[0;34m=\u001B[0m\u001B[0mself\u001B[0m\u001B[0;34m.\u001B[0m\u001B[0m_execute\u001B[0m\u001B[0;34m)\u001B[0m\u001B[0;34m\u001B[0m\u001B[0;34m\u001B[0m\u001B[0m\n\u001B[0m\u001B[1;32m     67\u001B[0m \u001B[0;34m\u001B[0m\u001B[0m\n\u001B[1;32m     68\u001B[0m     \u001B[0;32mdef\u001B[0m \u001B[0mexecutemany\u001B[0m\u001B[0;34m(\u001B[0m\u001B[0mself\u001B[0m\u001B[0;34m,\u001B[0m \u001B[0msql\u001B[0m\u001B[0;34m,\u001B[0m \u001B[0mparam_list\u001B[0m\u001B[0;34m)\u001B[0m\u001B[0;34m:\u001B[0m\u001B[0;34m\u001B[0m\u001B[0;34m\u001B[0m\u001B[0m\n",
      "\u001B[0;32m~/.local/lib/python3.8/site-packages/django/db/backends/utils.py\u001B[0m in \u001B[0;36m_execute_with_wrappers\u001B[0;34m(self, sql, params, many, executor)\u001B[0m\n\u001B[1;32m     73\u001B[0m         \u001B[0;32mfor\u001B[0m \u001B[0mwrapper\u001B[0m \u001B[0;32min\u001B[0m \u001B[0mreversed\u001B[0m\u001B[0;34m(\u001B[0m\u001B[0mself\u001B[0m\u001B[0;34m.\u001B[0m\u001B[0mdb\u001B[0m\u001B[0;34m.\u001B[0m\u001B[0mexecute_wrappers\u001B[0m\u001B[0;34m)\u001B[0m\u001B[0;34m:\u001B[0m\u001B[0;34m\u001B[0m\u001B[0;34m\u001B[0m\u001B[0m\n\u001B[1;32m     74\u001B[0m             \u001B[0mexecutor\u001B[0m \u001B[0;34m=\u001B[0m \u001B[0mfunctools\u001B[0m\u001B[0;34m.\u001B[0m\u001B[0mpartial\u001B[0m\u001B[0;34m(\u001B[0m\u001B[0mwrapper\u001B[0m\u001B[0;34m,\u001B[0m \u001B[0mexecutor\u001B[0m\u001B[0;34m)\u001B[0m\u001B[0;34m\u001B[0m\u001B[0;34m\u001B[0m\u001B[0m\n\u001B[0;32m---> 75\u001B[0;31m         \u001B[0;32mreturn\u001B[0m \u001B[0mexecutor\u001B[0m\u001B[0;34m(\u001B[0m\u001B[0msql\u001B[0m\u001B[0;34m,\u001B[0m \u001B[0mparams\u001B[0m\u001B[0;34m,\u001B[0m \u001B[0mmany\u001B[0m\u001B[0;34m,\u001B[0m \u001B[0mcontext\u001B[0m\u001B[0;34m)\u001B[0m\u001B[0;34m\u001B[0m\u001B[0;34m\u001B[0m\u001B[0m\n\u001B[0m\u001B[1;32m     76\u001B[0m \u001B[0;34m\u001B[0m\u001B[0m\n\u001B[1;32m     77\u001B[0m     \u001B[0;32mdef\u001B[0m \u001B[0m_execute\u001B[0m\u001B[0;34m(\u001B[0m\u001B[0mself\u001B[0m\u001B[0;34m,\u001B[0m \u001B[0msql\u001B[0m\u001B[0;34m,\u001B[0m \u001B[0mparams\u001B[0m\u001B[0;34m,\u001B[0m \u001B[0;34m*\u001B[0m\u001B[0mignored_wrapper_args\u001B[0m\u001B[0;34m)\u001B[0m\u001B[0;34m:\u001B[0m\u001B[0;34m\u001B[0m\u001B[0;34m\u001B[0m\u001B[0m\n",
      "\u001B[0;32m~/.local/lib/python3.8/site-packages/django/db/backends/utils.py\u001B[0m in \u001B[0;36m_execute\u001B[0;34m(self, sql, params, *ignored_wrapper_args)\u001B[0m\n\u001B[1;32m     82\u001B[0m                 \u001B[0;32mreturn\u001B[0m \u001B[0mself\u001B[0m\u001B[0;34m.\u001B[0m\u001B[0mcursor\u001B[0m\u001B[0;34m.\u001B[0m\u001B[0mexecute\u001B[0m\u001B[0;34m(\u001B[0m\u001B[0msql\u001B[0m\u001B[0;34m)\u001B[0m\u001B[0;34m\u001B[0m\u001B[0;34m\u001B[0m\u001B[0m\n\u001B[1;32m     83\u001B[0m             \u001B[0;32melse\u001B[0m\u001B[0;34m:\u001B[0m\u001B[0;34m\u001B[0m\u001B[0;34m\u001B[0m\u001B[0m\n\u001B[0;32m---> 84\u001B[0;31m                 \u001B[0;32mreturn\u001B[0m \u001B[0mself\u001B[0m\u001B[0;34m.\u001B[0m\u001B[0mcursor\u001B[0m\u001B[0;34m.\u001B[0m\u001B[0mexecute\u001B[0m\u001B[0;34m(\u001B[0m\u001B[0msql\u001B[0m\u001B[0;34m,\u001B[0m \u001B[0mparams\u001B[0m\u001B[0;34m)\u001B[0m\u001B[0;34m\u001B[0m\u001B[0;34m\u001B[0m\u001B[0m\n\u001B[0m\u001B[1;32m     85\u001B[0m \u001B[0;34m\u001B[0m\u001B[0m\n\u001B[1;32m     86\u001B[0m     \u001B[0;32mdef\u001B[0m \u001B[0m_executemany\u001B[0m\u001B[0;34m(\u001B[0m\u001B[0mself\u001B[0m\u001B[0;34m,\u001B[0m \u001B[0msql\u001B[0m\u001B[0;34m,\u001B[0m \u001B[0mparam_list\u001B[0m\u001B[0;34m,\u001B[0m \u001B[0;34m*\u001B[0m\u001B[0mignored_wrapper_args\u001B[0m\u001B[0;34m)\u001B[0m\u001B[0;34m:\u001B[0m\u001B[0;34m\u001B[0m\u001B[0;34m\u001B[0m\u001B[0m\n",
      "\u001B[0;32m~/.local/lib/python3.8/site-packages/django/db/utils.py\u001B[0m in \u001B[0;36m__exit__\u001B[0;34m(self, exc_type, exc_value, traceback)\u001B[0m\n\u001B[1;32m     88\u001B[0m                 \u001B[0;32mif\u001B[0m \u001B[0mdj_exc_type\u001B[0m \u001B[0;32mnot\u001B[0m \u001B[0;32min\u001B[0m \u001B[0;34m(\u001B[0m\u001B[0mDataError\u001B[0m\u001B[0;34m,\u001B[0m \u001B[0mIntegrityError\u001B[0m\u001B[0;34m)\u001B[0m\u001B[0;34m:\u001B[0m\u001B[0;34m\u001B[0m\u001B[0;34m\u001B[0m\u001B[0m\n\u001B[1;32m     89\u001B[0m                     \u001B[0mself\u001B[0m\u001B[0;34m.\u001B[0m\u001B[0mwrapper\u001B[0m\u001B[0;34m.\u001B[0m\u001B[0merrors_occurred\u001B[0m \u001B[0;34m=\u001B[0m \u001B[0;32mTrue\u001B[0m\u001B[0;34m\u001B[0m\u001B[0;34m\u001B[0m\u001B[0m\n\u001B[0;32m---> 90\u001B[0;31m                 \u001B[0;32mraise\u001B[0m \u001B[0mdj_exc_value\u001B[0m\u001B[0;34m.\u001B[0m\u001B[0mwith_traceback\u001B[0m\u001B[0;34m(\u001B[0m\u001B[0mtraceback\u001B[0m\u001B[0;34m)\u001B[0m \u001B[0;32mfrom\u001B[0m \u001B[0mexc_value\u001B[0m\u001B[0;34m\u001B[0m\u001B[0;34m\u001B[0m\u001B[0m\n\u001B[0m\u001B[1;32m     91\u001B[0m \u001B[0;34m\u001B[0m\u001B[0m\n\u001B[1;32m     92\u001B[0m     \u001B[0;32mdef\u001B[0m \u001B[0m__call__\u001B[0m\u001B[0;34m(\u001B[0m\u001B[0mself\u001B[0m\u001B[0;34m,\u001B[0m \u001B[0mfunc\u001B[0m\u001B[0;34m)\u001B[0m\u001B[0;34m:\u001B[0m\u001B[0;34m\u001B[0m\u001B[0;34m\u001B[0m\u001B[0m\n",
      "\u001B[0;32m~/.local/lib/python3.8/site-packages/django/db/backends/utils.py\u001B[0m in \u001B[0;36m_execute\u001B[0;34m(self, sql, params, *ignored_wrapper_args)\u001B[0m\n\u001B[1;32m     82\u001B[0m                 \u001B[0;32mreturn\u001B[0m \u001B[0mself\u001B[0m\u001B[0;34m.\u001B[0m\u001B[0mcursor\u001B[0m\u001B[0;34m.\u001B[0m\u001B[0mexecute\u001B[0m\u001B[0;34m(\u001B[0m\u001B[0msql\u001B[0m\u001B[0;34m)\u001B[0m\u001B[0;34m\u001B[0m\u001B[0;34m\u001B[0m\u001B[0m\n\u001B[1;32m     83\u001B[0m             \u001B[0;32melse\u001B[0m\u001B[0;34m:\u001B[0m\u001B[0;34m\u001B[0m\u001B[0;34m\u001B[0m\u001B[0m\n\u001B[0;32m---> 84\u001B[0;31m                 \u001B[0;32mreturn\u001B[0m \u001B[0mself\u001B[0m\u001B[0;34m.\u001B[0m\u001B[0mcursor\u001B[0m\u001B[0;34m.\u001B[0m\u001B[0mexecute\u001B[0m\u001B[0;34m(\u001B[0m\u001B[0msql\u001B[0m\u001B[0;34m,\u001B[0m \u001B[0mparams\u001B[0m\u001B[0;34m)\u001B[0m\u001B[0;34m\u001B[0m\u001B[0;34m\u001B[0m\u001B[0m\n\u001B[0m\u001B[1;32m     85\u001B[0m \u001B[0;34m\u001B[0m\u001B[0m\n\u001B[1;32m     86\u001B[0m     \u001B[0;32mdef\u001B[0m \u001B[0m_executemany\u001B[0m\u001B[0;34m(\u001B[0m\u001B[0mself\u001B[0m\u001B[0;34m,\u001B[0m \u001B[0msql\u001B[0m\u001B[0;34m,\u001B[0m \u001B[0mparam_list\u001B[0m\u001B[0;34m,\u001B[0m \u001B[0;34m*\u001B[0m\u001B[0mignored_wrapper_args\u001B[0m\u001B[0;34m)\u001B[0m\u001B[0;34m:\u001B[0m\u001B[0;34m\u001B[0m\u001B[0;34m\u001B[0m\u001B[0m\n",
      "\u001B[0;32m~/.local/lib/python3.8/site-packages/django/db/backends/sqlite3/base.py\u001B[0m in \u001B[0;36mexecute\u001B[0;34m(self, query, params)\u001B[0m\n\u001B[1;32m    421\u001B[0m             \u001B[0;32mreturn\u001B[0m \u001B[0mDatabase\u001B[0m\u001B[0;34m.\u001B[0m\u001B[0mCursor\u001B[0m\u001B[0;34m.\u001B[0m\u001B[0mexecute\u001B[0m\u001B[0;34m(\u001B[0m\u001B[0mself\u001B[0m\u001B[0;34m,\u001B[0m \u001B[0mquery\u001B[0m\u001B[0;34m)\u001B[0m\u001B[0;34m\u001B[0m\u001B[0;34m\u001B[0m\u001B[0m\n\u001B[1;32m    422\u001B[0m         \u001B[0mquery\u001B[0m \u001B[0;34m=\u001B[0m \u001B[0mself\u001B[0m\u001B[0;34m.\u001B[0m\u001B[0mconvert_query\u001B[0m\u001B[0;34m(\u001B[0m\u001B[0mquery\u001B[0m\u001B[0;34m)\u001B[0m\u001B[0;34m\u001B[0m\u001B[0;34m\u001B[0m\u001B[0m\n\u001B[0;32m--> 423\u001B[0;31m         \u001B[0;32mreturn\u001B[0m \u001B[0mDatabase\u001B[0m\u001B[0;34m.\u001B[0m\u001B[0mCursor\u001B[0m\u001B[0;34m.\u001B[0m\u001B[0mexecute\u001B[0m\u001B[0;34m(\u001B[0m\u001B[0mself\u001B[0m\u001B[0;34m,\u001B[0m \u001B[0mquery\u001B[0m\u001B[0;34m,\u001B[0m \u001B[0mparams\u001B[0m\u001B[0;34m)\u001B[0m\u001B[0;34m\u001B[0m\u001B[0;34m\u001B[0m\u001B[0m\n\u001B[0m\u001B[1;32m    424\u001B[0m \u001B[0;34m\u001B[0m\u001B[0m\n\u001B[1;32m    425\u001B[0m     \u001B[0;32mdef\u001B[0m \u001B[0mexecutemany\u001B[0m\u001B[0;34m(\u001B[0m\u001B[0mself\u001B[0m\u001B[0;34m,\u001B[0m \u001B[0mquery\u001B[0m\u001B[0;34m,\u001B[0m \u001B[0mparam_list\u001B[0m\u001B[0;34m)\u001B[0m\u001B[0;34m:\u001B[0m\u001B[0;34m\u001B[0m\u001B[0;34m\u001B[0m\u001B[0m\n",
      "\u001B[0;31mIntegrityError\u001B[0m: UNIQUE constraint failed: database_talent.name"
     ]
    }
   ],
   "source": [
    "parser.parse()"
   ]
  },
  {
   "cell_type": "code",
   "execution_count": 5,
   "id": "ec308761",
   "metadata": {},
   "outputs": [],
   "source": [
    "from database.models import GiftedChild"
   ]
  },
  {
   "cell_type": "code",
   "execution_count": 3,
   "id": "9991884a",
   "metadata": {},
   "outputs": [],
   "source": [
    "from database.models import User, Talent, Challenge, Task, Step, Achievement"
   ]
  },
  {
   "cell_type": "code",
   "execution_count": 9,
   "id": "e834610d",
   "metadata": {},
   "outputs": [
    {
     "data": {
      "text/plain": [
       "[38, 39, 40, 41, 42]"
      ]
     },
     "execution_count": 9,
     "metadata": {},
     "output_type": "execute_result"
    }
   ],
   "source": [
    "[x[0] for x in Talent.objects.values_list(\"id\")]"
   ]
  },
  {
   "cell_type": "code",
   "execution_count": 10,
   "id": "4e4019fb",
   "metadata": {},
   "outputs": [
    {
     "data": {
      "text/plain": [
       "<Talent: Talent object (38)>"
      ]
     },
     "execution_count": 10,
     "metadata": {},
     "output_type": "execute_result"
    }
   ],
   "source": [
    "Talent.objects.get(pk = 38)"
   ]
  },
  {
   "cell_type": "code",
   "execution_count": 46,
   "id": "6644c7b7",
   "metadata": {},
   "outputs": [
    {
     "data": {
      "text/plain": [
       "(1, {'database.Achievement': 1})"
      ]
     },
     "execution_count": 46,
     "metadata": {},
     "output_type": "execute_result"
    }
   ],
   "source": [
    "Talent.objects.all().delete()\n",
    "Achievement.objects.all().delete()"
   ]
  },
  {
   "cell_type": "code",
   "execution_count": 50,
   "id": "7733ae66",
   "metadata": {},
   "outputs": [
    {
     "data": {
      "text/plain": [
       "<QuerySet [<Talent: Talent object (38)>, <Talent: Talent object (39)>, <Talent: Talent object (40)>, <Talent: Talent object (41)>, <Talent: Talent object (42)>]>"
      ]
     },
     "execution_count": 50,
     "metadata": {},
     "output_type": "execute_result"
    }
   ],
   "source": [
    "Talent.objects.all()"
   ]
  },
  {
   "cell_type": "code",
   "execution_count": 5,
   "id": "5ea37ce9",
   "metadata": {},
   "outputs": [
    {
     "data": {
      "text/plain": [
       "mappingproxy({'__module__': 'database.models',\n",
       "              'CLASS': 'C',\n",
       "              'ART': 'A',\n",
       "              'SINGER': 'S',\n",
       "              'DEERS': 'D',\n",
       "              'PROFESSION_CHOICES': [('C', 'Class'),\n",
       "               ('A', 'Art'),\n",
       "               ('S', 'Singer'),\n",
       "               ('D', 'Deers')],\n",
       "              '__doc__': 'GiftedChild(uuid, specialization, name, surname, bio, created_at, updated_at)',\n",
       "              '_meta': <Options for GiftedChild>,\n",
       "              'DoesNotExist': database.models.GiftedChild.DoesNotExist,\n",
       "              'MultipleObjectsReturned': database.models.GiftedChild.MultipleObjectsReturned,\n",
       "              'uuid': <django.db.models.query_utils.DeferredAttribute at 0x7f07b0a1b5e0>,\n",
       "              'specialization': <django.db.models.query_utils.DeferredAttribute at 0x7f07b0a1b460>,\n",
       "              'get_specialization_display': functools.partialmethod(<function Model._get_FIELD_display at 0x7f07b0f92280>, , field=<django.db.models.fields.CharField: specialization>),\n",
       "              'name': <django.db.models.query_utils.DeferredAttribute at 0x7f07b0a1b040>,\n",
       "              'surname': <django.db.models.query_utils.DeferredAttribute at 0x7f07b0a1b100>,\n",
       "              'bio': <django.db.models.query_utils.DeferredAttribute at 0x7f07b0a28280>,\n",
       "              'subscribers': <django.db.models.fields.related_descriptors.ManyToManyDescriptor at 0x7f07b0a28940>,\n",
       "              'created_at': <django.db.models.query_utils.DeferredAttribute at 0x7f07b0a282e0>,\n",
       "              'get_next_by_created_at': functools.partialmethod(<function Model._get_next_or_previous_by_FIELD at 0x7f07b0f92310>, , field=<django.db.models.fields.DateTimeField: created_at>, is_next=True),\n",
       "              'get_previous_by_created_at': functools.partialmethod(<function Model._get_next_or_previous_by_FIELD at 0x7f07b0f92310>, , field=<django.db.models.fields.DateTimeField: created_at>, is_next=False),\n",
       "              'updated_at': <django.db.models.query_utils.DeferredAttribute at 0x7f07b0a28cd0>,\n",
       "              'get_next_by_updated_at': functools.partialmethod(<function Model._get_next_or_previous_by_FIELD at 0x7f07b0f92310>, , field=<django.db.models.fields.DateTimeField: updated_at>, is_next=True),\n",
       "              'get_previous_by_updated_at': functools.partialmethod(<function Model._get_next_or_previous_by_FIELD at 0x7f07b0f92310>, , field=<django.db.models.fields.DateTimeField: updated_at>, is_next=False),\n",
       "              'objects': <django.db.models.manager.ManagerDescriptor at 0x7f07b0a28df0>,\n",
       "              'subs': <django.db.models.fields.related_descriptors.ManyToManyDescriptor at 0x7f07b0a31130>})"
      ]
     },
     "execution_count": 5,
     "metadata": {},
     "output_type": "execute_result"
    }
   ],
   "source": [
    "#Смотрим все поля базы\n",
    "GiftedChild.__dict__"
   ]
  },
  {
   "cell_type": "code",
   "execution_count": 8,
   "id": "192743b2",
   "metadata": {},
   "outputs": [
    {
     "name": "stderr",
     "output_type": "stream",
     "text": [
      "/home/adhunch/.local/lib/python3.8/site-packages/django/db/models/fields/__init__.py:1416: RuntimeWarning: DateTimeField User.date_of_birth received a naive datetime (1996-10-25 00:00:00) while time zone support is active.\n",
      "  warnings.warn(\"DateTimeField %s received a naive datetime (%s)\"\n"
     ]
    }
   ],
   "source": [
    "user1 = User.objects.create(fullname = \"FullName1\",\n",
    "\n",
    "    login = \"login1\",\n",
    "    password = \"password1\",\n",
    "    user_level = 1,\n",
    "\n",
    "    bio = \"Bio1\",\n",
    "    school = \"School1\",\n",
    "    organizations = \"Organizations1\",\n",
    "\n",
    "    date_of_birth = datetime(1996, 10, 25))"
   ]
  },
  {
   "cell_type": "code",
   "execution_count": 9,
   "id": "af34851d",
   "metadata": {},
   "outputs": [
    {
     "name": "stderr",
     "output_type": "stream",
     "text": [
      "/home/adhunch/.local/lib/python3.8/site-packages/django/db/models/fields/__init__.py:1416: RuntimeWarning: DateTimeField User.date_of_birth received a naive datetime (1990-12-13 00:00:00) while time zone support is active.\n",
      "  warnings.warn(\"DateTimeField %s received a naive datetime (%s)\"\n"
     ]
    }
   ],
   "source": [
    "user2 = User.objects.create(fullname = \"FullName2\",\n",
    "\n",
    "    login = \"login2\",\n",
    "    password = \"password2\",\n",
    "    user_level = 1,\n",
    "\n",
    "    bio = \"Bio2\",\n",
    "    school = \"School2\",\n",
    "    organizations = \"Organizations2\",\n",
    "\n",
    "    date_of_birth = datetime(1990, 12, 13))"
   ]
  },
  {
   "cell_type": "code",
   "execution_count": 10,
   "id": "72ab0670",
   "metadata": {},
   "outputs": [
    {
     "data": {
      "text/plain": [
       "{'_state': <django.db.models.base.ModelState at 0x7f078a5f2f10>,\n",
       " 'id': 1,\n",
       " 'fullname': 'FullName1',\n",
       " 'login': 'login1',\n",
       " 'password': 'password1',\n",
       " 'user_level': 1,\n",
       " 'bio': 'Bio1',\n",
       " 'school': 'School1',\n",
       " 'organizations': 'Organizations1',\n",
       " 'date_of_birth': datetime.datetime(1996, 10, 25, 0, 0)}"
      ]
     },
     "execution_count": 10,
     "metadata": {},
     "output_type": "execute_result"
    }
   ],
   "source": [
    "user1.__dict__"
   ]
  },
  {
   "cell_type": "code",
   "execution_count": 4,
   "id": "dab894ae",
   "metadata": {},
   "outputs": [
    {
     "ename": "OperationalError",
     "evalue": "no such table: database_talent",
     "output_type": "error",
     "traceback": [
      "\u001B[0;31m---------------------------------------------------------------------------\u001B[0m",
      "\u001B[0;31mOperationalError\u001B[0m                          Traceback (most recent call last)",
      "\u001B[0;32m~/.local/lib/python3.8/site-packages/django/db/backends/utils.py\u001B[0m in \u001B[0;36m_execute\u001B[0;34m(self, sql, params, *ignored_wrapper_args)\u001B[0m\n\u001B[1;32m     83\u001B[0m             \u001B[0;32melse\u001B[0m\u001B[0;34m:\u001B[0m\u001B[0;34m\u001B[0m\u001B[0;34m\u001B[0m\u001B[0m\n\u001B[0;32m---> 84\u001B[0;31m                 \u001B[0;32mreturn\u001B[0m \u001B[0mself\u001B[0m\u001B[0;34m.\u001B[0m\u001B[0mcursor\u001B[0m\u001B[0;34m.\u001B[0m\u001B[0mexecute\u001B[0m\u001B[0;34m(\u001B[0m\u001B[0msql\u001B[0m\u001B[0;34m,\u001B[0m \u001B[0mparams\u001B[0m\u001B[0;34m)\u001B[0m\u001B[0;34m\u001B[0m\u001B[0;34m\u001B[0m\u001B[0m\n\u001B[0m\u001B[1;32m     85\u001B[0m \u001B[0;34m\u001B[0m\u001B[0m\n",
      "\u001B[0;32m~/.local/lib/python3.8/site-packages/django/db/backends/sqlite3/base.py\u001B[0m in \u001B[0;36mexecute\u001B[0;34m(self, query, params)\u001B[0m\n\u001B[1;32m    422\u001B[0m         \u001B[0mquery\u001B[0m \u001B[0;34m=\u001B[0m \u001B[0mself\u001B[0m\u001B[0;34m.\u001B[0m\u001B[0mconvert_query\u001B[0m\u001B[0;34m(\u001B[0m\u001B[0mquery\u001B[0m\u001B[0;34m)\u001B[0m\u001B[0;34m\u001B[0m\u001B[0;34m\u001B[0m\u001B[0m\n\u001B[0;32m--> 423\u001B[0;31m         \u001B[0;32mreturn\u001B[0m \u001B[0mDatabase\u001B[0m\u001B[0;34m.\u001B[0m\u001B[0mCursor\u001B[0m\u001B[0;34m.\u001B[0m\u001B[0mexecute\u001B[0m\u001B[0;34m(\u001B[0m\u001B[0mself\u001B[0m\u001B[0;34m,\u001B[0m \u001B[0mquery\u001B[0m\u001B[0;34m,\u001B[0m \u001B[0mparams\u001B[0m\u001B[0;34m)\u001B[0m\u001B[0;34m\u001B[0m\u001B[0;34m\u001B[0m\u001B[0m\n\u001B[0m\u001B[1;32m    424\u001B[0m \u001B[0;34m\u001B[0m\u001B[0m\n",
      "\u001B[0;31mOperationalError\u001B[0m: no such table: database_talent",
      "\nThe above exception was the direct cause of the following exception:\n",
      "\u001B[0;31mOperationalError\u001B[0m                          Traceback (most recent call last)",
      "\u001B[0;32m/tmp/ipykernel_23789/2153222881.py\u001B[0m in \u001B[0;36m<module>\u001B[0;34m\u001B[0m\n\u001B[0;32m----> 1\u001B[0;31m \u001B[0mTalent\u001B[0m\u001B[0;34m.\u001B[0m\u001B[0mobjects\u001B[0m\u001B[0;34m.\u001B[0m\u001B[0mcreate\u001B[0m\u001B[0;34m(\u001B[0m\u001B[0muuid\u001B[0m \u001B[0;34m=\u001B[0m \u001B[0;36m1\u001B[0m\u001B[0;34m,\u001B[0m \u001B[0mname\u001B[0m \u001B[0;34m=\u001B[0m \u001B[0;34m\"Личный бренд\"\u001B[0m\u001B[0;34m)\u001B[0m\u001B[0;34m\u001B[0m\u001B[0;34m\u001B[0m\u001B[0m\n\u001B[0m",
      "\u001B[0;32m~/.local/lib/python3.8/site-packages/django/db/models/manager.py\u001B[0m in \u001B[0;36mmanager_method\u001B[0;34m(self, *args, **kwargs)\u001B[0m\n\u001B[1;32m     83\u001B[0m         \u001B[0;32mdef\u001B[0m \u001B[0mcreate_method\u001B[0m\u001B[0;34m(\u001B[0m\u001B[0mname\u001B[0m\u001B[0;34m,\u001B[0m \u001B[0mmethod\u001B[0m\u001B[0;34m)\u001B[0m\u001B[0;34m:\u001B[0m\u001B[0;34m\u001B[0m\u001B[0;34m\u001B[0m\u001B[0m\n\u001B[1;32m     84\u001B[0m             \u001B[0;32mdef\u001B[0m \u001B[0mmanager_method\u001B[0m\u001B[0;34m(\u001B[0m\u001B[0mself\u001B[0m\u001B[0;34m,\u001B[0m \u001B[0;34m*\u001B[0m\u001B[0margs\u001B[0m\u001B[0;34m,\u001B[0m \u001B[0;34m**\u001B[0m\u001B[0mkwargs\u001B[0m\u001B[0;34m)\u001B[0m\u001B[0;34m:\u001B[0m\u001B[0;34m\u001B[0m\u001B[0;34m\u001B[0m\u001B[0m\n\u001B[0;32m---> 85\u001B[0;31m                 \u001B[0;32mreturn\u001B[0m \u001B[0mgetattr\u001B[0m\u001B[0;34m(\u001B[0m\u001B[0mself\u001B[0m\u001B[0;34m.\u001B[0m\u001B[0mget_queryset\u001B[0m\u001B[0;34m(\u001B[0m\u001B[0;34m)\u001B[0m\u001B[0;34m,\u001B[0m \u001B[0mname\u001B[0m\u001B[0;34m)\u001B[0m\u001B[0;34m(\u001B[0m\u001B[0;34m*\u001B[0m\u001B[0margs\u001B[0m\u001B[0;34m,\u001B[0m \u001B[0;34m**\u001B[0m\u001B[0mkwargs\u001B[0m\u001B[0;34m)\u001B[0m\u001B[0;34m\u001B[0m\u001B[0;34m\u001B[0m\u001B[0m\n\u001B[0m\u001B[1;32m     86\u001B[0m             \u001B[0mmanager_method\u001B[0m\u001B[0;34m.\u001B[0m\u001B[0m__name__\u001B[0m \u001B[0;34m=\u001B[0m \u001B[0mmethod\u001B[0m\u001B[0;34m.\u001B[0m\u001B[0m__name__\u001B[0m\u001B[0;34m\u001B[0m\u001B[0;34m\u001B[0m\u001B[0m\n\u001B[1;32m     87\u001B[0m             \u001B[0mmanager_method\u001B[0m\u001B[0;34m.\u001B[0m\u001B[0m__doc__\u001B[0m \u001B[0;34m=\u001B[0m \u001B[0mmethod\u001B[0m\u001B[0;34m.\u001B[0m\u001B[0m__doc__\u001B[0m\u001B[0;34m\u001B[0m\u001B[0;34m\u001B[0m\u001B[0m\n",
      "\u001B[0;32m~/.local/lib/python3.8/site-packages/django/db/models/query.py\u001B[0m in \u001B[0;36mcreate\u001B[0;34m(self, **kwargs)\u001B[0m\n\u001B[1;32m    451\u001B[0m         \u001B[0mobj\u001B[0m \u001B[0;34m=\u001B[0m \u001B[0mself\u001B[0m\u001B[0;34m.\u001B[0m\u001B[0mmodel\u001B[0m\u001B[0;34m(\u001B[0m\u001B[0;34m**\u001B[0m\u001B[0mkwargs\u001B[0m\u001B[0;34m)\u001B[0m\u001B[0;34m\u001B[0m\u001B[0;34m\u001B[0m\u001B[0m\n\u001B[1;32m    452\u001B[0m         \u001B[0mself\u001B[0m\u001B[0;34m.\u001B[0m\u001B[0m_for_write\u001B[0m \u001B[0;34m=\u001B[0m \u001B[0;32mTrue\u001B[0m\u001B[0;34m\u001B[0m\u001B[0;34m\u001B[0m\u001B[0m\n\u001B[0;32m--> 453\u001B[0;31m         \u001B[0mobj\u001B[0m\u001B[0;34m.\u001B[0m\u001B[0msave\u001B[0m\u001B[0;34m(\u001B[0m\u001B[0mforce_insert\u001B[0m\u001B[0;34m=\u001B[0m\u001B[0;32mTrue\u001B[0m\u001B[0;34m,\u001B[0m \u001B[0musing\u001B[0m\u001B[0;34m=\u001B[0m\u001B[0mself\u001B[0m\u001B[0;34m.\u001B[0m\u001B[0mdb\u001B[0m\u001B[0;34m)\u001B[0m\u001B[0;34m\u001B[0m\u001B[0;34m\u001B[0m\u001B[0m\n\u001B[0m\u001B[1;32m    454\u001B[0m         \u001B[0;32mreturn\u001B[0m \u001B[0mobj\u001B[0m\u001B[0;34m\u001B[0m\u001B[0;34m\u001B[0m\u001B[0m\n\u001B[1;32m    455\u001B[0m \u001B[0;34m\u001B[0m\u001B[0m\n",
      "\u001B[0;32m~/.local/lib/python3.8/site-packages/django/db/models/base.py\u001B[0m in \u001B[0;36msave\u001B[0;34m(self, force_insert, force_update, using, update_fields)\u001B[0m\n\u001B[1;32m    724\u001B[0m                 \u001B[0mupdate_fields\u001B[0m \u001B[0;34m=\u001B[0m \u001B[0mfrozenset\u001B[0m\u001B[0;34m(\u001B[0m\u001B[0mloaded_fields\u001B[0m\u001B[0;34m)\u001B[0m\u001B[0;34m\u001B[0m\u001B[0;34m\u001B[0m\u001B[0m\n\u001B[1;32m    725\u001B[0m \u001B[0;34m\u001B[0m\u001B[0m\n\u001B[0;32m--> 726\u001B[0;31m         self.save_base(using=using, force_insert=force_insert,\n\u001B[0m\u001B[1;32m    727\u001B[0m                        force_update=force_update, update_fields=update_fields)\n\u001B[1;32m    728\u001B[0m     \u001B[0msave\u001B[0m\u001B[0;34m.\u001B[0m\u001B[0malters_data\u001B[0m \u001B[0;34m=\u001B[0m \u001B[0;32mTrue\u001B[0m\u001B[0;34m\u001B[0m\u001B[0;34m\u001B[0m\u001B[0m\n",
      "\u001B[0;32m~/.local/lib/python3.8/site-packages/django/db/models/base.py\u001B[0m in \u001B[0;36msave_base\u001B[0;34m(self, raw, force_insert, force_update, using, update_fields)\u001B[0m\n\u001B[1;32m    761\u001B[0m             \u001B[0;32mif\u001B[0m \u001B[0;32mnot\u001B[0m \u001B[0mraw\u001B[0m\u001B[0;34m:\u001B[0m\u001B[0;34m\u001B[0m\u001B[0;34m\u001B[0m\u001B[0m\n\u001B[1;32m    762\u001B[0m                 \u001B[0mparent_inserted\u001B[0m \u001B[0;34m=\u001B[0m \u001B[0mself\u001B[0m\u001B[0;34m.\u001B[0m\u001B[0m_save_parents\u001B[0m\u001B[0;34m(\u001B[0m\u001B[0mcls\u001B[0m\u001B[0;34m,\u001B[0m \u001B[0musing\u001B[0m\u001B[0;34m,\u001B[0m \u001B[0mupdate_fields\u001B[0m\u001B[0;34m)\u001B[0m\u001B[0;34m\u001B[0m\u001B[0;34m\u001B[0m\u001B[0m\n\u001B[0;32m--> 763\u001B[0;31m             updated = self._save_table(\n\u001B[0m\u001B[1;32m    764\u001B[0m                 \u001B[0mraw\u001B[0m\u001B[0;34m,\u001B[0m \u001B[0mcls\u001B[0m\u001B[0;34m,\u001B[0m \u001B[0mforce_insert\u001B[0m \u001B[0;32mor\u001B[0m \u001B[0mparent_inserted\u001B[0m\u001B[0;34m,\u001B[0m\u001B[0;34m\u001B[0m\u001B[0;34m\u001B[0m\u001B[0m\n\u001B[1;32m    765\u001B[0m                 \u001B[0mforce_update\u001B[0m\u001B[0;34m,\u001B[0m \u001B[0musing\u001B[0m\u001B[0;34m,\u001B[0m \u001B[0mupdate_fields\u001B[0m\u001B[0;34m,\u001B[0m\u001B[0;34m\u001B[0m\u001B[0;34m\u001B[0m\u001B[0m\n",
      "\u001B[0;32m~/.local/lib/python3.8/site-packages/django/db/models/base.py\u001B[0m in \u001B[0;36m_save_table\u001B[0;34m(self, raw, cls, force_insert, force_update, using, update_fields)\u001B[0m\n\u001B[1;32m    866\u001B[0m \u001B[0;34m\u001B[0m\u001B[0m\n\u001B[1;32m    867\u001B[0m             \u001B[0mreturning_fields\u001B[0m \u001B[0;34m=\u001B[0m \u001B[0mmeta\u001B[0m\u001B[0;34m.\u001B[0m\u001B[0mdb_returning_fields\u001B[0m\u001B[0;34m\u001B[0m\u001B[0;34m\u001B[0m\u001B[0m\n\u001B[0;32m--> 868\u001B[0;31m             \u001B[0mresults\u001B[0m \u001B[0;34m=\u001B[0m \u001B[0mself\u001B[0m\u001B[0;34m.\u001B[0m\u001B[0m_do_insert\u001B[0m\u001B[0;34m(\u001B[0m\u001B[0mcls\u001B[0m\u001B[0;34m.\u001B[0m\u001B[0m_base_manager\u001B[0m\u001B[0;34m,\u001B[0m \u001B[0musing\u001B[0m\u001B[0;34m,\u001B[0m \u001B[0mfields\u001B[0m\u001B[0;34m,\u001B[0m \u001B[0mreturning_fields\u001B[0m\u001B[0;34m,\u001B[0m \u001B[0mraw\u001B[0m\u001B[0;34m)\u001B[0m\u001B[0;34m\u001B[0m\u001B[0;34m\u001B[0m\u001B[0m\n\u001B[0m\u001B[1;32m    869\u001B[0m             \u001B[0;32mif\u001B[0m \u001B[0mresults\u001B[0m\u001B[0;34m:\u001B[0m\u001B[0;34m\u001B[0m\u001B[0;34m\u001B[0m\u001B[0m\n\u001B[1;32m    870\u001B[0m                 \u001B[0;32mfor\u001B[0m \u001B[0mvalue\u001B[0m\u001B[0;34m,\u001B[0m \u001B[0mfield\u001B[0m \u001B[0;32min\u001B[0m \u001B[0mzip\u001B[0m\u001B[0;34m(\u001B[0m\u001B[0mresults\u001B[0m\u001B[0;34m[\u001B[0m\u001B[0;36m0\u001B[0m\u001B[0;34m]\u001B[0m\u001B[0;34m,\u001B[0m \u001B[0mreturning_fields\u001B[0m\u001B[0;34m)\u001B[0m\u001B[0;34m:\u001B[0m\u001B[0;34m\u001B[0m\u001B[0;34m\u001B[0m\u001B[0m\n",
      "\u001B[0;32m~/.local/lib/python3.8/site-packages/django/db/models/base.py\u001B[0m in \u001B[0;36m_do_insert\u001B[0;34m(self, manager, using, fields, returning_fields, raw)\u001B[0m\n\u001B[1;32m    904\u001B[0m         \u001B[0;32mreturn\u001B[0m \u001B[0mthe\u001B[0m \u001B[0mnewly\u001B[0m \u001B[0mcreated\u001B[0m \u001B[0mdata\u001B[0m \u001B[0;32mfor\u001B[0m \u001B[0mthe\u001B[0m \u001B[0mmodel\u001B[0m\u001B[0;34m.\u001B[0m\u001B[0;34m\u001B[0m\u001B[0;34m\u001B[0m\u001B[0m\n\u001B[1;32m    905\u001B[0m         \"\"\"\n\u001B[0;32m--> 906\u001B[0;31m         return manager._insert(\n\u001B[0m\u001B[1;32m    907\u001B[0m             \u001B[0;34m[\u001B[0m\u001B[0mself\u001B[0m\u001B[0;34m]\u001B[0m\u001B[0;34m,\u001B[0m \u001B[0mfields\u001B[0m\u001B[0;34m=\u001B[0m\u001B[0mfields\u001B[0m\u001B[0;34m,\u001B[0m \u001B[0mreturning_fields\u001B[0m\u001B[0;34m=\u001B[0m\u001B[0mreturning_fields\u001B[0m\u001B[0;34m,\u001B[0m\u001B[0;34m\u001B[0m\u001B[0;34m\u001B[0m\u001B[0m\n\u001B[1;32m    908\u001B[0m             \u001B[0musing\u001B[0m\u001B[0;34m=\u001B[0m\u001B[0musing\u001B[0m\u001B[0;34m,\u001B[0m \u001B[0mraw\u001B[0m\u001B[0;34m=\u001B[0m\u001B[0mraw\u001B[0m\u001B[0;34m,\u001B[0m\u001B[0;34m\u001B[0m\u001B[0;34m\u001B[0m\u001B[0m\n",
      "\u001B[0;32m~/.local/lib/python3.8/site-packages/django/db/models/manager.py\u001B[0m in \u001B[0;36mmanager_method\u001B[0;34m(self, *args, **kwargs)\u001B[0m\n\u001B[1;32m     83\u001B[0m         \u001B[0;32mdef\u001B[0m \u001B[0mcreate_method\u001B[0m\u001B[0;34m(\u001B[0m\u001B[0mname\u001B[0m\u001B[0;34m,\u001B[0m \u001B[0mmethod\u001B[0m\u001B[0;34m)\u001B[0m\u001B[0;34m:\u001B[0m\u001B[0;34m\u001B[0m\u001B[0;34m\u001B[0m\u001B[0m\n\u001B[1;32m     84\u001B[0m             \u001B[0;32mdef\u001B[0m \u001B[0mmanager_method\u001B[0m\u001B[0;34m(\u001B[0m\u001B[0mself\u001B[0m\u001B[0;34m,\u001B[0m \u001B[0;34m*\u001B[0m\u001B[0margs\u001B[0m\u001B[0;34m,\u001B[0m \u001B[0;34m**\u001B[0m\u001B[0mkwargs\u001B[0m\u001B[0;34m)\u001B[0m\u001B[0;34m:\u001B[0m\u001B[0;34m\u001B[0m\u001B[0;34m\u001B[0m\u001B[0m\n\u001B[0;32m---> 85\u001B[0;31m                 \u001B[0;32mreturn\u001B[0m \u001B[0mgetattr\u001B[0m\u001B[0;34m(\u001B[0m\u001B[0mself\u001B[0m\u001B[0;34m.\u001B[0m\u001B[0mget_queryset\u001B[0m\u001B[0;34m(\u001B[0m\u001B[0;34m)\u001B[0m\u001B[0;34m,\u001B[0m \u001B[0mname\u001B[0m\u001B[0;34m)\u001B[0m\u001B[0;34m(\u001B[0m\u001B[0;34m*\u001B[0m\u001B[0margs\u001B[0m\u001B[0;34m,\u001B[0m \u001B[0;34m**\u001B[0m\u001B[0mkwargs\u001B[0m\u001B[0;34m)\u001B[0m\u001B[0;34m\u001B[0m\u001B[0;34m\u001B[0m\u001B[0m\n\u001B[0m\u001B[1;32m     86\u001B[0m             \u001B[0mmanager_method\u001B[0m\u001B[0;34m.\u001B[0m\u001B[0m__name__\u001B[0m \u001B[0;34m=\u001B[0m \u001B[0mmethod\u001B[0m\u001B[0;34m.\u001B[0m\u001B[0m__name__\u001B[0m\u001B[0;34m\u001B[0m\u001B[0;34m\u001B[0m\u001B[0m\n\u001B[1;32m     87\u001B[0m             \u001B[0mmanager_method\u001B[0m\u001B[0;34m.\u001B[0m\u001B[0m__doc__\u001B[0m \u001B[0;34m=\u001B[0m \u001B[0mmethod\u001B[0m\u001B[0;34m.\u001B[0m\u001B[0m__doc__\u001B[0m\u001B[0;34m\u001B[0m\u001B[0;34m\u001B[0m\u001B[0m\n",
      "\u001B[0;32m~/.local/lib/python3.8/site-packages/django/db/models/query.py\u001B[0m in \u001B[0;36m_insert\u001B[0;34m(self, objs, fields, returning_fields, raw, using, ignore_conflicts)\u001B[0m\n\u001B[1;32m   1268\u001B[0m         \u001B[0mquery\u001B[0m \u001B[0;34m=\u001B[0m \u001B[0msql\u001B[0m\u001B[0;34m.\u001B[0m\u001B[0mInsertQuery\u001B[0m\u001B[0;34m(\u001B[0m\u001B[0mself\u001B[0m\u001B[0;34m.\u001B[0m\u001B[0mmodel\u001B[0m\u001B[0;34m,\u001B[0m \u001B[0mignore_conflicts\u001B[0m\u001B[0;34m=\u001B[0m\u001B[0mignore_conflicts\u001B[0m\u001B[0;34m)\u001B[0m\u001B[0;34m\u001B[0m\u001B[0;34m\u001B[0m\u001B[0m\n\u001B[1;32m   1269\u001B[0m         \u001B[0mquery\u001B[0m\u001B[0;34m.\u001B[0m\u001B[0minsert_values\u001B[0m\u001B[0;34m(\u001B[0m\u001B[0mfields\u001B[0m\u001B[0;34m,\u001B[0m \u001B[0mobjs\u001B[0m\u001B[0;34m,\u001B[0m \u001B[0mraw\u001B[0m\u001B[0;34m=\u001B[0m\u001B[0mraw\u001B[0m\u001B[0;34m)\u001B[0m\u001B[0;34m\u001B[0m\u001B[0;34m\u001B[0m\u001B[0m\n\u001B[0;32m-> 1270\u001B[0;31m         \u001B[0;32mreturn\u001B[0m \u001B[0mquery\u001B[0m\u001B[0;34m.\u001B[0m\u001B[0mget_compiler\u001B[0m\u001B[0;34m(\u001B[0m\u001B[0musing\u001B[0m\u001B[0;34m=\u001B[0m\u001B[0musing\u001B[0m\u001B[0;34m)\u001B[0m\u001B[0;34m.\u001B[0m\u001B[0mexecute_sql\u001B[0m\u001B[0;34m(\u001B[0m\u001B[0mreturning_fields\u001B[0m\u001B[0;34m)\u001B[0m\u001B[0;34m\u001B[0m\u001B[0;34m\u001B[0m\u001B[0m\n\u001B[0m\u001B[1;32m   1271\u001B[0m     \u001B[0m_insert\u001B[0m\u001B[0;34m.\u001B[0m\u001B[0malters_data\u001B[0m \u001B[0;34m=\u001B[0m \u001B[0;32mTrue\u001B[0m\u001B[0;34m\u001B[0m\u001B[0;34m\u001B[0m\u001B[0m\n\u001B[1;32m   1272\u001B[0m     \u001B[0m_insert\u001B[0m\u001B[0;34m.\u001B[0m\u001B[0mqueryset_only\u001B[0m \u001B[0;34m=\u001B[0m \u001B[0;32mFalse\u001B[0m\u001B[0;34m\u001B[0m\u001B[0;34m\u001B[0m\u001B[0m\n",
      "\u001B[0;32m~/.local/lib/python3.8/site-packages/django/db/models/sql/compiler.py\u001B[0m in \u001B[0;36mexecute_sql\u001B[0;34m(self, returning_fields)\u001B[0m\n\u001B[1;32m   1414\u001B[0m         \u001B[0;32mwith\u001B[0m \u001B[0mself\u001B[0m\u001B[0;34m.\u001B[0m\u001B[0mconnection\u001B[0m\u001B[0;34m.\u001B[0m\u001B[0mcursor\u001B[0m\u001B[0;34m(\u001B[0m\u001B[0;34m)\u001B[0m \u001B[0;32mas\u001B[0m \u001B[0mcursor\u001B[0m\u001B[0;34m:\u001B[0m\u001B[0;34m\u001B[0m\u001B[0;34m\u001B[0m\u001B[0m\n\u001B[1;32m   1415\u001B[0m             \u001B[0;32mfor\u001B[0m \u001B[0msql\u001B[0m\u001B[0;34m,\u001B[0m \u001B[0mparams\u001B[0m \u001B[0;32min\u001B[0m \u001B[0mself\u001B[0m\u001B[0;34m.\u001B[0m\u001B[0mas_sql\u001B[0m\u001B[0;34m(\u001B[0m\u001B[0;34m)\u001B[0m\u001B[0;34m:\u001B[0m\u001B[0;34m\u001B[0m\u001B[0;34m\u001B[0m\u001B[0m\n\u001B[0;32m-> 1416\u001B[0;31m                 \u001B[0mcursor\u001B[0m\u001B[0;34m.\u001B[0m\u001B[0mexecute\u001B[0m\u001B[0;34m(\u001B[0m\u001B[0msql\u001B[0m\u001B[0;34m,\u001B[0m \u001B[0mparams\u001B[0m\u001B[0;34m)\u001B[0m\u001B[0;34m\u001B[0m\u001B[0;34m\u001B[0m\u001B[0m\n\u001B[0m\u001B[1;32m   1417\u001B[0m             \u001B[0;32mif\u001B[0m \u001B[0;32mnot\u001B[0m \u001B[0mself\u001B[0m\u001B[0;34m.\u001B[0m\u001B[0mreturning_fields\u001B[0m\u001B[0;34m:\u001B[0m\u001B[0;34m\u001B[0m\u001B[0;34m\u001B[0m\u001B[0m\n\u001B[1;32m   1418\u001B[0m                 \u001B[0;32mreturn\u001B[0m \u001B[0;34m[\u001B[0m\u001B[0;34m]\u001B[0m\u001B[0;34m\u001B[0m\u001B[0;34m\u001B[0m\u001B[0m\n",
      "\u001B[0;32m~/.local/lib/python3.8/site-packages/django/db/backends/utils.py\u001B[0m in \u001B[0;36mexecute\u001B[0;34m(self, sql, params)\u001B[0m\n\u001B[1;32m     96\u001B[0m     \u001B[0;32mdef\u001B[0m \u001B[0mexecute\u001B[0m\u001B[0;34m(\u001B[0m\u001B[0mself\u001B[0m\u001B[0;34m,\u001B[0m \u001B[0msql\u001B[0m\u001B[0;34m,\u001B[0m \u001B[0mparams\u001B[0m\u001B[0;34m=\u001B[0m\u001B[0;32mNone\u001B[0m\u001B[0;34m)\u001B[0m\u001B[0;34m:\u001B[0m\u001B[0;34m\u001B[0m\u001B[0;34m\u001B[0m\u001B[0m\n\u001B[1;32m     97\u001B[0m         \u001B[0;32mwith\u001B[0m \u001B[0mself\u001B[0m\u001B[0;34m.\u001B[0m\u001B[0mdebug_sql\u001B[0m\u001B[0;34m(\u001B[0m\u001B[0msql\u001B[0m\u001B[0;34m,\u001B[0m \u001B[0mparams\u001B[0m\u001B[0;34m,\u001B[0m \u001B[0muse_last_executed_query\u001B[0m\u001B[0;34m=\u001B[0m\u001B[0;32mTrue\u001B[0m\u001B[0;34m)\u001B[0m\u001B[0;34m:\u001B[0m\u001B[0;34m\u001B[0m\u001B[0;34m\u001B[0m\u001B[0m\n\u001B[0;32m---> 98\u001B[0;31m             \u001B[0;32mreturn\u001B[0m \u001B[0msuper\u001B[0m\u001B[0;34m(\u001B[0m\u001B[0;34m)\u001B[0m\u001B[0;34m.\u001B[0m\u001B[0mexecute\u001B[0m\u001B[0;34m(\u001B[0m\u001B[0msql\u001B[0m\u001B[0;34m,\u001B[0m \u001B[0mparams\u001B[0m\u001B[0;34m)\u001B[0m\u001B[0;34m\u001B[0m\u001B[0;34m\u001B[0m\u001B[0m\n\u001B[0m\u001B[1;32m     99\u001B[0m \u001B[0;34m\u001B[0m\u001B[0m\n\u001B[1;32m    100\u001B[0m     \u001B[0;32mdef\u001B[0m \u001B[0mexecutemany\u001B[0m\u001B[0;34m(\u001B[0m\u001B[0mself\u001B[0m\u001B[0;34m,\u001B[0m \u001B[0msql\u001B[0m\u001B[0;34m,\u001B[0m \u001B[0mparam_list\u001B[0m\u001B[0;34m)\u001B[0m\u001B[0;34m:\u001B[0m\u001B[0;34m\u001B[0m\u001B[0;34m\u001B[0m\u001B[0m\n",
      "\u001B[0;32m~/.local/lib/python3.8/site-packages/django/db/backends/utils.py\u001B[0m in \u001B[0;36mexecute\u001B[0;34m(self, sql, params)\u001B[0m\n\u001B[1;32m     64\u001B[0m \u001B[0;34m\u001B[0m\u001B[0m\n\u001B[1;32m     65\u001B[0m     \u001B[0;32mdef\u001B[0m \u001B[0mexecute\u001B[0m\u001B[0;34m(\u001B[0m\u001B[0mself\u001B[0m\u001B[0;34m,\u001B[0m \u001B[0msql\u001B[0m\u001B[0;34m,\u001B[0m \u001B[0mparams\u001B[0m\u001B[0;34m=\u001B[0m\u001B[0;32mNone\u001B[0m\u001B[0;34m)\u001B[0m\u001B[0;34m:\u001B[0m\u001B[0;34m\u001B[0m\u001B[0;34m\u001B[0m\u001B[0m\n\u001B[0;32m---> 66\u001B[0;31m         \u001B[0;32mreturn\u001B[0m \u001B[0mself\u001B[0m\u001B[0;34m.\u001B[0m\u001B[0m_execute_with_wrappers\u001B[0m\u001B[0;34m(\u001B[0m\u001B[0msql\u001B[0m\u001B[0;34m,\u001B[0m \u001B[0mparams\u001B[0m\u001B[0;34m,\u001B[0m \u001B[0mmany\u001B[0m\u001B[0;34m=\u001B[0m\u001B[0;32mFalse\u001B[0m\u001B[0;34m,\u001B[0m \u001B[0mexecutor\u001B[0m\u001B[0;34m=\u001B[0m\u001B[0mself\u001B[0m\u001B[0;34m.\u001B[0m\u001B[0m_execute\u001B[0m\u001B[0;34m)\u001B[0m\u001B[0;34m\u001B[0m\u001B[0;34m\u001B[0m\u001B[0m\n\u001B[0m\u001B[1;32m     67\u001B[0m \u001B[0;34m\u001B[0m\u001B[0m\n\u001B[1;32m     68\u001B[0m     \u001B[0;32mdef\u001B[0m \u001B[0mexecutemany\u001B[0m\u001B[0;34m(\u001B[0m\u001B[0mself\u001B[0m\u001B[0;34m,\u001B[0m \u001B[0msql\u001B[0m\u001B[0;34m,\u001B[0m \u001B[0mparam_list\u001B[0m\u001B[0;34m)\u001B[0m\u001B[0;34m:\u001B[0m\u001B[0;34m\u001B[0m\u001B[0;34m\u001B[0m\u001B[0m\n",
      "\u001B[0;32m~/.local/lib/python3.8/site-packages/django/db/backends/utils.py\u001B[0m in \u001B[0;36m_execute_with_wrappers\u001B[0;34m(self, sql, params, many, executor)\u001B[0m\n\u001B[1;32m     73\u001B[0m         \u001B[0;32mfor\u001B[0m \u001B[0mwrapper\u001B[0m \u001B[0;32min\u001B[0m \u001B[0mreversed\u001B[0m\u001B[0;34m(\u001B[0m\u001B[0mself\u001B[0m\u001B[0;34m.\u001B[0m\u001B[0mdb\u001B[0m\u001B[0;34m.\u001B[0m\u001B[0mexecute_wrappers\u001B[0m\u001B[0;34m)\u001B[0m\u001B[0;34m:\u001B[0m\u001B[0;34m\u001B[0m\u001B[0;34m\u001B[0m\u001B[0m\n\u001B[1;32m     74\u001B[0m             \u001B[0mexecutor\u001B[0m \u001B[0;34m=\u001B[0m \u001B[0mfunctools\u001B[0m\u001B[0;34m.\u001B[0m\u001B[0mpartial\u001B[0m\u001B[0;34m(\u001B[0m\u001B[0mwrapper\u001B[0m\u001B[0;34m,\u001B[0m \u001B[0mexecutor\u001B[0m\u001B[0;34m)\u001B[0m\u001B[0;34m\u001B[0m\u001B[0;34m\u001B[0m\u001B[0m\n\u001B[0;32m---> 75\u001B[0;31m         \u001B[0;32mreturn\u001B[0m \u001B[0mexecutor\u001B[0m\u001B[0;34m(\u001B[0m\u001B[0msql\u001B[0m\u001B[0;34m,\u001B[0m \u001B[0mparams\u001B[0m\u001B[0;34m,\u001B[0m \u001B[0mmany\u001B[0m\u001B[0;34m,\u001B[0m \u001B[0mcontext\u001B[0m\u001B[0;34m)\u001B[0m\u001B[0;34m\u001B[0m\u001B[0;34m\u001B[0m\u001B[0m\n\u001B[0m\u001B[1;32m     76\u001B[0m \u001B[0;34m\u001B[0m\u001B[0m\n\u001B[1;32m     77\u001B[0m     \u001B[0;32mdef\u001B[0m \u001B[0m_execute\u001B[0m\u001B[0;34m(\u001B[0m\u001B[0mself\u001B[0m\u001B[0;34m,\u001B[0m \u001B[0msql\u001B[0m\u001B[0;34m,\u001B[0m \u001B[0mparams\u001B[0m\u001B[0;34m,\u001B[0m \u001B[0;34m*\u001B[0m\u001B[0mignored_wrapper_args\u001B[0m\u001B[0;34m)\u001B[0m\u001B[0;34m:\u001B[0m\u001B[0;34m\u001B[0m\u001B[0;34m\u001B[0m\u001B[0m\n",
      "\u001B[0;32m~/.local/lib/python3.8/site-packages/django/db/backends/utils.py\u001B[0m in \u001B[0;36m_execute\u001B[0;34m(self, sql, params, *ignored_wrapper_args)\u001B[0m\n\u001B[1;32m     82\u001B[0m                 \u001B[0;32mreturn\u001B[0m \u001B[0mself\u001B[0m\u001B[0;34m.\u001B[0m\u001B[0mcursor\u001B[0m\u001B[0;34m.\u001B[0m\u001B[0mexecute\u001B[0m\u001B[0;34m(\u001B[0m\u001B[0msql\u001B[0m\u001B[0;34m)\u001B[0m\u001B[0;34m\u001B[0m\u001B[0;34m\u001B[0m\u001B[0m\n\u001B[1;32m     83\u001B[0m             \u001B[0;32melse\u001B[0m\u001B[0;34m:\u001B[0m\u001B[0;34m\u001B[0m\u001B[0;34m\u001B[0m\u001B[0m\n\u001B[0;32m---> 84\u001B[0;31m                 \u001B[0;32mreturn\u001B[0m \u001B[0mself\u001B[0m\u001B[0;34m.\u001B[0m\u001B[0mcursor\u001B[0m\u001B[0;34m.\u001B[0m\u001B[0mexecute\u001B[0m\u001B[0;34m(\u001B[0m\u001B[0msql\u001B[0m\u001B[0;34m,\u001B[0m \u001B[0mparams\u001B[0m\u001B[0;34m)\u001B[0m\u001B[0;34m\u001B[0m\u001B[0;34m\u001B[0m\u001B[0m\n\u001B[0m\u001B[1;32m     85\u001B[0m \u001B[0;34m\u001B[0m\u001B[0m\n\u001B[1;32m     86\u001B[0m     \u001B[0;32mdef\u001B[0m \u001B[0m_executemany\u001B[0m\u001B[0;34m(\u001B[0m\u001B[0mself\u001B[0m\u001B[0;34m,\u001B[0m \u001B[0msql\u001B[0m\u001B[0;34m,\u001B[0m \u001B[0mparam_list\u001B[0m\u001B[0;34m,\u001B[0m \u001B[0;34m*\u001B[0m\u001B[0mignored_wrapper_args\u001B[0m\u001B[0;34m)\u001B[0m\u001B[0;34m:\u001B[0m\u001B[0;34m\u001B[0m\u001B[0;34m\u001B[0m\u001B[0m\n",
      "\u001B[0;32m~/.local/lib/python3.8/site-packages/django/db/utils.py\u001B[0m in \u001B[0;36m__exit__\u001B[0;34m(self, exc_type, exc_value, traceback)\u001B[0m\n\u001B[1;32m     88\u001B[0m                 \u001B[0;32mif\u001B[0m \u001B[0mdj_exc_type\u001B[0m \u001B[0;32mnot\u001B[0m \u001B[0;32min\u001B[0m \u001B[0;34m(\u001B[0m\u001B[0mDataError\u001B[0m\u001B[0;34m,\u001B[0m \u001B[0mIntegrityError\u001B[0m\u001B[0;34m)\u001B[0m\u001B[0;34m:\u001B[0m\u001B[0;34m\u001B[0m\u001B[0;34m\u001B[0m\u001B[0m\n\u001B[1;32m     89\u001B[0m                     \u001B[0mself\u001B[0m\u001B[0;34m.\u001B[0m\u001B[0mwrapper\u001B[0m\u001B[0;34m.\u001B[0m\u001B[0merrors_occurred\u001B[0m \u001B[0;34m=\u001B[0m \u001B[0;32mTrue\u001B[0m\u001B[0;34m\u001B[0m\u001B[0;34m\u001B[0m\u001B[0m\n\u001B[0;32m---> 90\u001B[0;31m                 \u001B[0;32mraise\u001B[0m \u001B[0mdj_exc_value\u001B[0m\u001B[0;34m.\u001B[0m\u001B[0mwith_traceback\u001B[0m\u001B[0;34m(\u001B[0m\u001B[0mtraceback\u001B[0m\u001B[0;34m)\u001B[0m \u001B[0;32mfrom\u001B[0m \u001B[0mexc_value\u001B[0m\u001B[0;34m\u001B[0m\u001B[0;34m\u001B[0m\u001B[0m\n\u001B[0m\u001B[1;32m     91\u001B[0m \u001B[0;34m\u001B[0m\u001B[0m\n\u001B[1;32m     92\u001B[0m     \u001B[0;32mdef\u001B[0m \u001B[0m__call__\u001B[0m\u001B[0;34m(\u001B[0m\u001B[0mself\u001B[0m\u001B[0;34m,\u001B[0m \u001B[0mfunc\u001B[0m\u001B[0;34m)\u001B[0m\u001B[0;34m:\u001B[0m\u001B[0;34m\u001B[0m\u001B[0;34m\u001B[0m\u001B[0m\n",
      "\u001B[0;32m~/.local/lib/python3.8/site-packages/django/db/backends/utils.py\u001B[0m in \u001B[0;36m_execute\u001B[0;34m(self, sql, params, *ignored_wrapper_args)\u001B[0m\n\u001B[1;32m     82\u001B[0m                 \u001B[0;32mreturn\u001B[0m \u001B[0mself\u001B[0m\u001B[0;34m.\u001B[0m\u001B[0mcursor\u001B[0m\u001B[0;34m.\u001B[0m\u001B[0mexecute\u001B[0m\u001B[0;34m(\u001B[0m\u001B[0msql\u001B[0m\u001B[0;34m)\u001B[0m\u001B[0;34m\u001B[0m\u001B[0;34m\u001B[0m\u001B[0m\n\u001B[1;32m     83\u001B[0m             \u001B[0;32melse\u001B[0m\u001B[0;34m:\u001B[0m\u001B[0;34m\u001B[0m\u001B[0;34m\u001B[0m\u001B[0m\n\u001B[0;32m---> 84\u001B[0;31m                 \u001B[0;32mreturn\u001B[0m \u001B[0mself\u001B[0m\u001B[0;34m.\u001B[0m\u001B[0mcursor\u001B[0m\u001B[0;34m.\u001B[0m\u001B[0mexecute\u001B[0m\u001B[0;34m(\u001B[0m\u001B[0msql\u001B[0m\u001B[0;34m,\u001B[0m \u001B[0mparams\u001B[0m\u001B[0;34m)\u001B[0m\u001B[0;34m\u001B[0m\u001B[0;34m\u001B[0m\u001B[0m\n\u001B[0m\u001B[1;32m     85\u001B[0m \u001B[0;34m\u001B[0m\u001B[0m\n\u001B[1;32m     86\u001B[0m     \u001B[0;32mdef\u001B[0m \u001B[0m_executemany\u001B[0m\u001B[0;34m(\u001B[0m\u001B[0mself\u001B[0m\u001B[0;34m,\u001B[0m \u001B[0msql\u001B[0m\u001B[0;34m,\u001B[0m \u001B[0mparam_list\u001B[0m\u001B[0;34m,\u001B[0m \u001B[0;34m*\u001B[0m\u001B[0mignored_wrapper_args\u001B[0m\u001B[0;34m)\u001B[0m\u001B[0;34m:\u001B[0m\u001B[0;34m\u001B[0m\u001B[0;34m\u001B[0m\u001B[0m\n",
      "\u001B[0;32m~/.local/lib/python3.8/site-packages/django/db/backends/sqlite3/base.py\u001B[0m in \u001B[0;36mexecute\u001B[0;34m(self, query, params)\u001B[0m\n\u001B[1;32m    421\u001B[0m             \u001B[0;32mreturn\u001B[0m \u001B[0mDatabase\u001B[0m\u001B[0;34m.\u001B[0m\u001B[0mCursor\u001B[0m\u001B[0;34m.\u001B[0m\u001B[0mexecute\u001B[0m\u001B[0;34m(\u001B[0m\u001B[0mself\u001B[0m\u001B[0;34m,\u001B[0m \u001B[0mquery\u001B[0m\u001B[0;34m)\u001B[0m\u001B[0;34m\u001B[0m\u001B[0;34m\u001B[0m\u001B[0m\n\u001B[1;32m    422\u001B[0m         \u001B[0mquery\u001B[0m \u001B[0;34m=\u001B[0m \u001B[0mself\u001B[0m\u001B[0;34m.\u001B[0m\u001B[0mconvert_query\u001B[0m\u001B[0;34m(\u001B[0m\u001B[0mquery\u001B[0m\u001B[0;34m)\u001B[0m\u001B[0;34m\u001B[0m\u001B[0;34m\u001B[0m\u001B[0m\n\u001B[0;32m--> 423\u001B[0;31m         \u001B[0;32mreturn\u001B[0m \u001B[0mDatabase\u001B[0m\u001B[0;34m.\u001B[0m\u001B[0mCursor\u001B[0m\u001B[0;34m.\u001B[0m\u001B[0mexecute\u001B[0m\u001B[0;34m(\u001B[0m\u001B[0mself\u001B[0m\u001B[0;34m,\u001B[0m \u001B[0mquery\u001B[0m\u001B[0;34m,\u001B[0m \u001B[0mparams\u001B[0m\u001B[0;34m)\u001B[0m\u001B[0;34m\u001B[0m\u001B[0;34m\u001B[0m\u001B[0m\n\u001B[0m\u001B[1;32m    424\u001B[0m \u001B[0;34m\u001B[0m\u001B[0m\n\u001B[1;32m    425\u001B[0m     \u001B[0;32mdef\u001B[0m \u001B[0mexecutemany\u001B[0m\u001B[0;34m(\u001B[0m\u001B[0mself\u001B[0m\u001B[0;34m,\u001B[0m \u001B[0mquery\u001B[0m\u001B[0;34m,\u001B[0m \u001B[0mparam_list\u001B[0m\u001B[0;34m)\u001B[0m\u001B[0;34m:\u001B[0m\u001B[0;34m\u001B[0m\u001B[0;34m\u001B[0m\u001B[0m\n",
      "\u001B[0;31mOperationalError\u001B[0m: no such table: database_talent"
     ]
    }
   ],
   "source": [
    "Talent.objects.create(uuid = 1, name = \"Личный бренд\")\n"
   ]
  },
  {
   "cell_type": "code",
   "execution_count": 12,
   "id": "ba3280c0",
   "metadata": {},
   "outputs": [],
   "source": [
    "talent1.users.add(user1, user2)"
   ]
  },
  {
   "cell_type": "code",
   "execution_count": null,
   "id": "b1df3a99",
   "metadata": {},
   "outputs": [],
   "source": []
  },
  {
   "cell_type": "code",
   "execution_count": 14,
   "id": "a401f6bd",
   "metadata": {},
   "outputs": [],
   "source": [
    "#Создаем новую запись в БД\n",
    "#После создания .save() делать не нужно!\n",
    "child1 = GiftedChild.objects.create(specialization='A', \n",
    "                                    name='Певец', \n",
    "                                    surname='Певцов', \n",
    "                                    bio='Певец Певцов родился в чуме и первое что он сделал - исполнил 7ую симфонию Чайковского. Этот талант не пропадет!')"
   ]
  },
  {
   "cell_type": "code",
   "execution_count": 15,
   "id": "87cd453e",
   "metadata": {},
   "outputs": [
    {
     "data": {
      "text/plain": [
       "{'_state': <django.db.models.base.ModelState at 0x7f1ddb8c0b80>,\n",
       " 'uuid': None,\n",
       " 'specialization': 'A',\n",
       " 'name': 'Певец',\n",
       " 'surname': 'Певцов',\n",
       " 'bio': 'Певец Певцов родился в чуме и первое что он сделал - исполнил 7ую симфонию Чайковского. Этот талант не пропадет!',\n",
       " 'created_at': datetime.datetime(2021, 10, 9, 8, 59, 52, 429061, tzinfo=<UTC>),\n",
       " 'updated_at': datetime.datetime(2021, 10, 9, 8, 59, 52, 429094, tzinfo=<UTC>)}"
      ]
     },
     "execution_count": 15,
     "metadata": {},
     "output_type": "execute_result"
    }
   ],
   "source": [
    "#проверяем, что всё создалось\n",
    "child1.__dict__"
   ]
  },
  {
   "cell_type": "code",
   "execution_count": 16,
   "id": "dfbecca3",
   "metadata": {},
   "outputs": [
    {
     "data": {
      "text/plain": [
       "<QuerySet [<GiftedChild: GiftedChild object (1)>]>"
      ]
     },
     "execution_count": 16,
     "metadata": {},
     "output_type": "execute_result"
    }
   ],
   "source": [
    "#в БД так же появился новый объект\n",
    "GiftedChild.objects.all()"
   ]
  },
  {
   "cell_type": "code",
   "execution_count": 17,
   "id": "a6fce25c",
   "metadata": {},
   "outputs": [
    {
     "data": {
      "text/plain": [
       "'Певец'"
      ]
     },
     "execution_count": 17,
     "metadata": {},
     "output_type": "execute_result"
    }
   ],
   "source": [
    "#аттрибуты объекта можно кверить по ключам\n",
    "GiftedChild.objects.first().name"
   ]
  },
  {
   "cell_type": "code",
   "execution_count": 18,
   "id": "81e3bba1",
   "metadata": {},
   "outputs": [],
   "source": [
    "#Ищем в БД по значению поля\n",
    "child_query = GiftedChild.objects.get(name='Певец')"
   ]
  },
  {
   "cell_type": "code",
   "execution_count": 19,
   "id": "b98a128d",
   "metadata": {},
   "outputs": [
    {
     "data": {
      "text/plain": [
       "<GiftedChild: GiftedChild object (1)>"
      ]
     },
     "execution_count": 19,
     "metadata": {},
     "output_type": "execute_result"
    }
   ],
   "source": [
    "child_query"
   ]
  },
  {
   "cell_type": "code",
   "execution_count": 20,
   "id": "279727ac",
   "metadata": {},
   "outputs": [],
   "source": [
    "#Меняем существующие поля\n",
    "child_query.surname = 'Певищев'\n",
    "child_query.save()"
   ]
  },
  {
   "cell_type": "code",
   "execution_count": 21,
   "id": "806647a0",
   "metadata": {},
   "outputs": [],
   "source": [
    "#Заново кверим базу\n",
    "child_query_new = GiftedChild.objects.get(name='Певец')"
   ]
  },
  {
   "cell_type": "code",
   "execution_count": 22,
   "id": "398aeab4",
   "metadata": {},
   "outputs": [
    {
     "data": {
      "text/plain": [
       "'Певищев'"
      ]
     },
     "execution_count": 22,
     "metadata": {},
     "output_type": "execute_result"
    }
   ],
   "source": [
    "#Проверяем, что фамилия изменилась\n",
    "child_query_new.surname"
   ]
  },
  {
   "cell_type": "code",
   "execution_count": 23,
   "id": "d8cff494",
   "metadata": {},
   "outputs": [
    {
     "data": {
      "text/plain": [
       "True"
      ]
     },
     "execution_count": 23,
     "metadata": {},
     "output_type": "execute_result"
    }
   ],
   "source": [
    "#При этом это один и тот же ребенок\n",
    "child_query_new == child_query"
   ]
  },
  {
   "cell_type": "code",
   "execution_count": 24,
   "id": "b6b5f675",
   "metadata": {},
   "outputs": [],
   "source": [
    "#Создаем второго ребенка\n",
    "child2 = GiftedChild.objects.create(specialization='D', \n",
    "                                    name='Оленевод', \n",
    "                                    surname='Оленеводов', \n",
    "                                    bio='Оленевод Оленеводов родился в чуме и первое что он сделал - выпас сразу 20 оленей! Этот талант не пропадет!')"
   ]
  },
  {
   "cell_type": "code",
   "execution_count": 25,
   "id": "82fb74db",
   "metadata": {},
   "outputs": [
    {
     "data": {
      "text/plain": [
       "<QuerySet [<GiftedChild: GiftedChild object (2)>]>"
      ]
     },
     "execution_count": 25,
     "metadata": {},
     "output_type": "execute_result"
    }
   ],
   "source": [
    "#Через фильтр можно делать тонкую настройку выгрузки, выгружаем всех детей с аттрибутом D в поле specialization\n",
    "GiftedChild.objects.filter(specialization__icontains='D').all()"
   ]
  },
  {
   "cell_type": "code",
   "execution_count": 26,
   "id": "f58d276a",
   "metadata": {},
   "outputs": [],
   "source": [
    "#Забираем первого ребенка из БД\n",
    "olenevod = GiftedChild.objects.filter(specialization__icontains='D').all()[0]"
   ]
  },
  {
   "cell_type": "code",
   "execution_count": 27,
   "id": "517c5276",
   "metadata": {},
   "outputs": [
    {
     "data": {
      "text/plain": [
       "'Оленевод Оленеводов родился в чуме и первое что он сделал - выпас сразу 20 оленей! Этот талант не пропадет!'"
      ]
     },
     "execution_count": 27,
     "metadata": {},
     "output_type": "execute_result"
    }
   ],
   "source": [
    "#чек био\n",
    "olenevod.bio"
   ]
  },
  {
   "cell_type": "code",
   "execution_count": 28,
   "id": "9df2b689",
   "metadata": {},
   "outputs": [],
   "source": [
    "#добавляем певца в подписчиков оленевода\n",
    "olenevod.subs.add(child_query_new)"
   ]
  },
  {
   "cell_type": "code",
   "execution_count": 29,
   "id": "c7810671",
   "metadata": {},
   "outputs": [
    {
     "name": "stdout",
     "output_type": "stream",
     "text": [
      "{'uuid': 1, 'specialization': 'A', 'name': 'Певец', 'surname': 'Певищев', 'bio': 'Певец Певцов родился в чуме и первое что он сделал - исполнил 7ую симфонию Чайковского. Этот талант не пропадет!', 'created_at': datetime.datetime(2021, 10, 9, 8, 59, 52, 429061, tzinfo=<UTC>), 'updated_at': datetime.datetime(2021, 10, 9, 8, 59, 53, 618542, tzinfo=<UTC>)}\n"
     ]
    }
   ],
   "source": [
    "#Так можно достать всех сабов\n",
    "for i in olenevod.subs.all().values():\n",
    "    print(i)"
   ]
  },
  {
   "cell_type": "markdown",
   "id": "e3fe3654",
   "metadata": {},
   "source": [
    "Сабов можно кверить так же, как бдху!"
   ]
  },
  {
   "cell_type": "code",
   "execution_count": 10,
   "id": "3403dac1",
   "metadata": {},
   "outputs": [
    {
     "data": {
      "text/plain": [
       "(4, {'database.GiftedChild_subscribers': 1, 'database.GiftedChild': 3})"
      ]
     },
     "execution_count": 10,
     "metadata": {},
     "output_type": "execute_result"
    }
   ],
   "source": [
    "#Фулл зачистка базы, аккуратно, блять!\n",
    "GiftedChild.objects.all().delete()"
   ]
  },
  {
   "cell_type": "code",
   "execution_count": 35,
   "id": "b519bcee",
   "metadata": {},
   "outputs": [
    {
     "data": {
      "text/plain": [
       "[{'uuid': 1,\n",
       "  'specialization': 'A',\n",
       "  'name': 'Певец',\n",
       "  'surname': 'Певищев',\n",
       "  'bio': 'Певец Певцов родился в чуме и первое что он сделал - исполнил 7ую симфонию Чайковского. Этот талант не пропадет!',\n",
       "  'created_at': datetime.datetime(2021, 10, 9, 8, 59, 52, 429061, tzinfo=<UTC>),\n",
       "  'updated_at': datetime.datetime(2021, 10, 9, 8, 59, 53, 618542, tzinfo=<UTC>)},\n",
       " {'uuid': 2,\n",
       "  'specialization': 'D',\n",
       "  'name': 'Оленевод',\n",
       "  'surname': 'Оленеводов',\n",
       "  'bio': 'Оленевод Оленеводов родился в чуме и первое что он сделал - выпас сразу 20 оленей! Этот талант не пропадет!',\n",
       "  'created_at': datetime.datetime(2021, 10, 9, 8, 59, 54, 590691, tzinfo=<UTC>),\n",
       "  'updated_at': datetime.datetime(2021, 10, 9, 8, 59, 54, 590731, tzinfo=<UTC>)}]"
      ]
     },
     "execution_count": 35,
     "metadata": {},
     "output_type": "execute_result"
    }
   ],
   "source": [
    "[i for i in GiftedChild.objects.all().values()]"
   ]
  }
 ],
 "metadata": {
  "kernelspec": {
   "display_name": "Python 3 (ipykernel)",
   "language": "python",
   "name": "python3"
  },
  "language_info": {
   "codemirror_mode": {
    "name": "ipython",
    "version": 3
   },
   "file_extension": ".py",
   "mimetype": "text/x-python",
   "name": "python",
   "nbconvert_exporter": "python",
   "pygments_lexer": "ipython3",
   "version": "3.8.10"
  }
 },
 "nbformat": 4,
 "nbformat_minor": 5
}